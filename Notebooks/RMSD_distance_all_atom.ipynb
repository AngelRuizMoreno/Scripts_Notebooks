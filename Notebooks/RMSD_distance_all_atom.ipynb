{
 "cells": [
  {
   "cell_type": "markdown",
   "metadata": {},
   "source": [
    "# In place RMS calculation using RDKIT Maximum Common Substructure "
   ]
  },
  {
   "cell_type": "markdown",
   "metadata": {},
   "source": [
    "Root Mean Square (RMS) calculation is a frequent method of for comparing 3D spatial distribution of molecules or conformers. However, in some cases we want to calculate the RMS of two molecules in place. On other words, without align the molecules."
   ]
  },
  {
   "cell_type": "markdown",
   "metadata": {},
   "source": [
    "In this brief workflow, I will show you how to use RDKIT to do a in place RMS calculation for two conformers that come from docking experiments and have a different pose."
   ]
  },
  {
   "cell_type": "markdown",
   "metadata": {},
   "source": [
    "## Importing the libraries we will use"
   ]
  },
  {
   "cell_type": "markdown",
   "metadata": {},
   "source": [
    "To get the atom mapping of our docking poses we will use the Maximum Common Substructure ([MCS](http://rdkit.org/docs/source/rdkit.Chem.MCS.html)) search module from RDKIT. For comparison with other RMS in place method, I will use pymol Rms_cur method ([Rms_cur](https://pymolwiki.org/index.php/Rms_cur))."
   ]
  },
  {
   "cell_type": "code",
   "execution_count": 1,
   "metadata": {},
   "outputs": [],
   "source": [
    "# Libraries I will use for RDKIT approach\n",
    "from rdkit import Chem\n",
    "from rdkit.Chem import AllChem\n",
    "from rdkit.Chem import rdMolAlign,rdFMCS,Draw\n",
    "\n",
    "import itertools\n",
    "from scipy.spatial import distance\n",
    "import numpy as np\n",
    "import math\n",
    "\n",
    "# Libraries I will use for Pymol approach\n",
    "from pymol import cmd"
   ]
  },
  {
   "cell_type": "markdown",
   "metadata": {},
   "source": [
    "## Loading the poses"
   ]
  },
  {
   "cell_type": "markdown",
   "metadata": {},
   "source": [
    "After docking I have a .sdf file for each molecule with 10 poses. I want to compare all my poses"
   ]
  },
  {
   "cell_type": "code",
   "execution_count": null,
   "metadata": {},
   "outputs": [],
   "source": [
    "file=''"
   ]
  },
  {
   "cell_type": "code",
   "execution_count": null,
   "metadata": {},
   "outputs": [],
   "source": [
    "path='../Untitled_Folder/'\n",
    "for file in os.listdir(path):\n",
    "    mols=[]\n",
    "    if '.sdf' in file:\n",
    "        print (file.split('.')[0],'\\n')\n",
    "        for mol in Chem.SDMolSupplier(path+file,sanitize=False):\n",
    "            if mol !=None:\n",
    "                rdmolops.Cleanup (mol)\n",
    "                mols.append (mol)\n",
    "        mols[0].SetProp ('_Name','GOLD')\n",
    "        mols[1].SetProp ('_Name','VINA')\n",
    "        mols[2].SetProp ('_Name','FRED')\n",
    "        \n",
    "        c=itertools.combinations(mols,2)\n",
    "        unq=list(set(c))\n",
    "        for i,j in unq:\n",
    "            distances=[]\n",
    "            mc=rdFMCS.FindMCS ([i,j])\n",
    "            a=i.GetSubstructMatch(Chem.MolFromSmarts(mc.smartsString))\n",
    "            b=j.GetSubstructMatch(Chem.MolFromSmarts(mc.smartsString))\n",
    "            amap=list(zip(a,b))\n",
    "            for atomA, atomB in amap:\n",
    "                pos_A=i.GetConformer().GetAtomPosition (atomA)\n",
    "                pos_B=j.GetConformer().GetAtomPosition (atomB)\n",
    "                coord_A=np.array((pos_A.x,pos_A.y,pos_A.z))\n",
    "                coord_B=np.array ((pos_B.x,pos_B.y,pos_B.z))\n",
    "                dist_numpy = np.linalg.norm(coord_A-coord_B)                \n",
    "                distances.append(dist_numpy)\n",
    "            \n",
    "            rmsd=math.sqrt(1/len(distances)*sum([i*i for i in distances]))\n",
    "            print (i.GetProp('_Name'),'Vs', j.GetProp('_Name'),'RMSD:',rmsd,'\\n')"
   ]
  }
 ],
 "metadata": {
  "kernelspec": {
   "display_name": "Python 3",
   "language": "python",
   "name": "python3"
  },
  "language_info": {
   "codemirror_mode": {
    "name": "ipython",
    "version": 3
   },
   "file_extension": ".py",
   "mimetype": "text/x-python",
   "name": "python",
   "nbconvert_exporter": "python",
   "pygments_lexer": "ipython3",
   "version": "3.6.8"
  }
 },
 "nbformat": 4,
 "nbformat_minor": 2
}
