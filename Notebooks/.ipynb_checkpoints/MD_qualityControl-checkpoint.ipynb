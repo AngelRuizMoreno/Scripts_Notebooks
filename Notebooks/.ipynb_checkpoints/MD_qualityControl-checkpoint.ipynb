{
 "cells": [
  {
   "cell_type": "code",
   "execution_count": null,
   "metadata": {},
   "outputs": [],
   "source": [
    "import pandas as pd\n",
    "from matplotlib import pyplot as plt"
   ]
  },
  {
   "cell_type": "markdown",
   "metadata": {},
   "source": [
    "# Production"
   ]
  },
  {
   "cell_type": "code",
   "execution_count": null,
   "metadata": {},
   "outputs": [],
   "source": [
    "table=pd.DataFrame()\n",
    "index=0\n",
    "with open('production.log', 'r') as f:\n",
    "    doc=[line for line in f.readlines()]\n",
    "\n",
    "start=[index for (index,p) in enumerate(doc) if 'Step           Time         Lambda' in p]\n",
    "finish=[index-1 for (index,p) in enumerate(doc) if 'Step           Time         Lambda' in p]\n",
    "finish.append(len(doc))\n",
    "\n",
    "interval=list(zip(start,finish[1:]))\n",
    "for i in interval:\n",
    "    block = doc[i[0]:i[1]]\n",
    "    for x,line in enumerate(block):\n",
    "        if 'Step           Time         Lambda' in line:\n",
    "            table.loc[index,'Step']=float(block[x+1].split()[0])\n",
    "            table.loc[index,'Time']=float(block[x+1].split()[1])\n",
    "        if 'Potential    Kinetic En.   Total Energy    Temperature Pressure (bar)' in line:\n",
    "            table.loc[index,'PotentialEnergy(KJ/mol)']=float(block[x+1].split()[0])\n",
    "            table.loc[index,'KineticEnergy(KJ/mol)']=float(block[x+1].split()[1])\n",
    "            table.loc[index,'TotalEnergy(KJ/mol)']=float(block[x+1].split()[2])\n",
    "            table.loc[index,'Temperature(K)']=float(block[x+1].split()[3])\n",
    "            table.loc[index,'Pressure(bar)']=float(block[x+1].split()[4])\n",
    "        if 'Constr. rmsd' in line:\n",
    "            table.loc[index,'ConstrainRMSD']=float(block[x+1].split()[0])\n",
    "    index=index+1"
   ]
  },
  {
   "cell_type": "markdown",
   "metadata": {},
   "source": [
    "# Equilibration"
   ]
  },
  {
   "cell_type": "code",
   "execution_count": null,
   "metadata": {},
   "outputs": [],
   "source": [
    "table=pd.DataFrame()\n",
    "index=0\n",
    "with open('equilibration.log', 'r') as f:\n",
    "    doc=[line for line in f.readlines()]\n",
    "\n",
    "start=[index for (index,p) in enumerate(doc) if 'Step           Time         Lambda' in p]\n",
    "finish=[index-1 for (index,p) in enumerate(doc) if 'Step           Time         Lambda' in p]\n",
    "finish.append(len(doc))\n",
    "\n",
    "interval=list(zip(start,finish[1:]))\n",
    "for i in interval:\n",
    "    block = doc[i[0]:i[1]]\n",
    "    for x,line in enumerate(block):\n",
    "        if 'Step           Time         Lambda' in line:\n",
    "            table.loc[index,'Step']=float(block[x+1].split()[0])\n",
    "            table.loc[index,'Time']=float(block[x+1].split()[1])\n",
    "        if 'Position Rest.      Potential    Kinetic En.   Total Energy  Conserved En.' in line:\n",
    "            table.loc[index,'PotentialEnergy(KJ/mol)']=float(block[x+1].split()[1])\n",
    "            table.loc[index,'KineticEnergy(KJ/mol)']=float(block[x+1].split()[2])\n",
    "            table.loc[index,'TotalEnergy(KJ/mol)']=float(block[x+1].split()[3])\n",
    "        if 'Temperature Pressure (bar)   Constr. rmsd' in line:\n",
    "            table.loc[index,'Temperature(K)']=float(block[x+1].split()[0])\n",
    "            table.loc[index,'Pressure(bar)']=float(block[x+1].split()[1])\n",
    "            table.loc[index,'ConstrainRMSD']=float(block[x+1].split()[2])\n",
    "    index=index+1"
   ]
  },
  {
   "cell_type": "code",
   "execution_count": null,
   "metadata": {},
   "outputs": [],
   "source": [
    "table.head()"
   ]
  },
  {
   "cell_type": "markdown",
   "metadata": {},
   "source": [
    "## Charts"
   ]
  },
  {
   "cell_type": "code",
   "execution_count": null,
   "metadata": {},
   "outputs": [],
   "source": [
    "plt.figure(figsize=(15,5))\n",
    "\n",
    "ax1=plt.subplot()\n",
    "plt.plot(table['Time'],table['Temperature(K)'])\n",
    "\n",
    "plt.title('Equilibration',fontsize=20,weight='bold')\n",
    "plt.ylabel('Temperature(K)',fontsize=16,fontweight='bold')\n",
    "plt.xlabel('Time(ps)',fontsize=16,fontweight='bold')\n",
    "\n",
    "ax1.spines['left'].set_visible(False)\n",
    "ax1.spines['top'].set_visible(False)\n",
    "ax1.spines['right'].set_visible(False)\n",
    "\n",
    "plt.ylim((0,320))\n",
    "plt.tick_params ('both',width=2,labelsize=12)\n",
    "plt.tight_layout()\n",
    "plt.show() "
   ]
  },
  {
   "cell_type": "code",
   "execution_count": null,
   "metadata": {},
   "outputs": [],
   "source": [
    "plt.figure(figsize=(15,5))\n",
    "\n",
    "ax1=plt.subplot()\n",
    "plt.plot(table['Time'],table['Pressure(bar)'])\n",
    "\n",
    "plt.title('Equilibration',fontsize=20,weight='bold')\n",
    "plt.ylabel('Pressure(bar)',fontsize=16,fontweight='bold')\n",
    "plt.xlabel('Time',fontsize=16,fontweight='bold')\n",
    "\n",
    "ax1.spines['left'].set_visible(False)\n",
    "ax1.spines['top'].set_visible(False)\n",
    "ax1.spines['right'].set_visible(False)\n",
    "\n",
    "plt.tick_params ('both',width=2,labelsize=12)\n",
    "plt.tight_layout()\n",
    "plt.show() "
   ]
  },
  {
   "cell_type": "code",
   "execution_count": null,
   "metadata": {},
   "outputs": [],
   "source": [
    "plt.figure(figsize=(15,5))\n",
    "\n",
    "ax1=plt.subplot()\n",
    "plt.plot(table['Time'],table['TotalEnergy(KJ/mol)'])\n",
    "\n",
    "plt.title('Production',fontsize=20,weight='bold')\n",
    "plt.ylabel('TotalEnergy(KJ/mol)',fontsize=16,fontweight='bold')\n",
    "plt.xlabel('Time',fontsize=16,fontweight='bold')\n",
    "\n",
    "ax1.spines['left'].set_visible(False)\n",
    "ax1.spines['top'].set_visible(False)\n",
    "ax1.spines['right'].set_visible(False)\n",
    "\n",
    "#plt.ylim((-1000,1000))\n",
    "plt.tick_params ('both',width=2,labelsize=12)\n",
    "plt.tight_layout()\n",
    "plt.show() "
   ]
  },
  {
   "cell_type": "code",
   "execution_count": null,
   "metadata": {},
   "outputs": [],
   "source": [
    "plt.figure(figsize=(15,5))\n",
    "\n",
    "ax1=plt.subplot()\n",
    "plt.plot(table['Time'],table['ConstrainRMSD'])\n",
    "\n",
    "plt.title('Production',fontsize=20,weight='bold')\n",
    "plt.ylabel('ConstrainRMSD',fontsize=16,fontweight='bold')\n",
    "plt.xlabel('Time',fontsize=16,fontweight='bold')\n",
    "\n",
    "ax1.spines['left'].set_visible(False)\n",
    "ax1.spines['top'].set_visible(False)\n",
    "ax1.spines['right'].set_visible(False)\n",
    "\n",
    "plt.tick_params ('both',width=2,labelsize=12)\n",
    "plt.tight_layout()\n",
    "plt.show() "
   ]
  },
  {
   "cell_type": "code",
   "execution_count": null,
   "metadata": {},
   "outputs": [],
   "source": []
  }
 ],
 "metadata": {
  "kernelspec": {
   "display_name": "Chem_3",
   "language": "python",
   "name": "chem_3"
  },
  "language_info": {
   "codemirror_mode": {
    "name": "ipython",
    "version": 3
   },
   "file_extension": ".py",
   "mimetype": "text/x-python",
   "name": "python",
   "nbconvert_exporter": "python",
   "pygments_lexer": "ipython3",
   "version": "3.7.7"
  }
 },
 "nbformat": 4,
 "nbformat_minor": 4
}
