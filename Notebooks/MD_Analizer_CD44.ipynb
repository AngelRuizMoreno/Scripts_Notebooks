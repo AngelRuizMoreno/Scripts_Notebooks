{
 "cells": [
  {
   "cell_type": "code",
   "execution_count": 1,
   "metadata": {},
   "outputs": [],
   "source": [
    "%load_ext autoreload\n",
    "%autoreload 2"
   ]
  },
  {
   "cell_type": "code",
   "execution_count": 2,
   "metadata": {},
   "outputs": [],
   "source": [
    "import sys, os, shutil\n",
    "import numpy as np\n",
    "import matplotlib\n",
    "import matplotlib.pyplot as plt\n",
    "import matplotlib.pylab as pylab\n",
    "import pandas as pd\n",
    "import mdtraj as md\n",
    "import pytraj as pt\n",
    "import nglview as nv\n",
    "import seaborn as sns"
   ]
  },
  {
   "cell_type": "code",
   "execution_count": 3,
   "metadata": {},
   "outputs": [],
   "source": [
    "# Matplotlib options\n",
    "%matplotlib inline\n",
    "matplotlib.style.use('ggplot')\n",
    "pylab.rcParams['figure.figsize'] = 12, 8"
   ]
  },
  {
   "cell_type": "code",
   "execution_count": 4,
   "metadata": {},
   "outputs": [],
   "source": [
    "top='../centered_traj/CD44_PIC.pdb'\n",
    "trajectory='../centered_traj/CD44_PIC_no_WAT.xtc'"
   ]
  },
  {
   "cell_type": "code",
   "execution_count": 5,
   "metadata": {},
   "outputs": [
    {
     "ename": "KeyboardInterrupt",
     "evalue": "",
     "output_type": "error",
     "traceback": [
      "\u001b[0;31m---------------------------------------------------------------------------\u001b[0m",
      "\u001b[0;31mKeyboardInterrupt\u001b[0m                         Traceback (most recent call last)",
      "\u001b[0;32m<ipython-input-5-52c47864202d>\u001b[0m in \u001b[0;36m<module>\u001b[0;34m()\u001b[0m\n\u001b[0;32m----> 1\u001b[0;31m \u001b[0mtraj\u001b[0m\u001b[0;34m=\u001b[0m\u001b[0mmd\u001b[0m\u001b[0;34m.\u001b[0m\u001b[0mload_xtc\u001b[0m\u001b[0;34m(\u001b[0m\u001b[0mtrajectory\u001b[0m\u001b[0;34m,\u001b[0m \u001b[0mtop\u001b[0m\u001b[0;34m=\u001b[0m\u001b[0mtop\u001b[0m\u001b[0;34m)\u001b[0m\u001b[0;34m\u001b[0m\u001b[0m\n\u001b[0m\u001b[1;32m      2\u001b[0m \u001b[0mtraj\u001b[0m\u001b[0;34m\u001b[0m\u001b[0m\n",
      "\u001b[0;32mmdtraj/formats/xtc/xtc.pyx\u001b[0m in \u001b[0;36mxtc.load_xtc\u001b[0;34m()\u001b[0m\n",
      "\u001b[0;32mmdtraj/formats/xtc/xtc.pyx\u001b[0m in \u001b[0;36mxtc.load_xtc\u001b[0;34m()\u001b[0m\n",
      "\u001b[0;32mmdtraj/formats/xtc/xtc.pyx\u001b[0m in \u001b[0;36mxtc.XTCTrajectoryFile.read_as_traj\u001b[0;34m()\u001b[0m\n",
      "\u001b[0;32mmdtraj/formats/xtc/xtc.pyx\u001b[0m in \u001b[0;36mxtc.XTCTrajectoryFile.read\u001b[0;34m()\u001b[0m\n",
      "\u001b[0;32m~/miniconda3/envs/Cheminformatics/lib/python3.6/site-packages/numpy/core/fromnumeric.py\u001b[0m in \u001b[0;36mall\u001b[0;34m(a, axis, out, keepdims)\u001b[0m\n\u001b[1;32m   1951\u001b[0m \u001b[0;34m\u001b[0m\u001b[0m\n\u001b[1;32m   1952\u001b[0m \u001b[0;34m\u001b[0m\u001b[0m\n\u001b[0;32m-> 1953\u001b[0;31m \u001b[0;32mdef\u001b[0m \u001b[0mall\u001b[0m\u001b[0;34m(\u001b[0m\u001b[0ma\u001b[0m\u001b[0;34m,\u001b[0m \u001b[0maxis\u001b[0m\u001b[0;34m=\u001b[0m\u001b[0;32mNone\u001b[0m\u001b[0;34m,\u001b[0m \u001b[0mout\u001b[0m\u001b[0;34m=\u001b[0m\u001b[0;32mNone\u001b[0m\u001b[0;34m,\u001b[0m \u001b[0mkeepdims\u001b[0m\u001b[0;34m=\u001b[0m\u001b[0mnp\u001b[0m\u001b[0;34m.\u001b[0m\u001b[0m_NoValue\u001b[0m\u001b[0;34m)\u001b[0m\u001b[0;34m:\u001b[0m\u001b[0;34m\u001b[0m\u001b[0m\n\u001b[0m\u001b[1;32m   1954\u001b[0m     \"\"\"\n\u001b[1;32m   1955\u001b[0m     \u001b[0mTest\u001b[0m \u001b[0mwhether\u001b[0m \u001b[0mall\u001b[0m \u001b[0marray\u001b[0m \u001b[0melements\u001b[0m \u001b[0malong\u001b[0m \u001b[0ma\u001b[0m \u001b[0mgiven\u001b[0m \u001b[0maxis\u001b[0m \u001b[0mevaluate\u001b[0m \u001b[0mto\u001b[0m \u001b[0;32mTrue\u001b[0m\u001b[0;34m.\u001b[0m\u001b[0;34m\u001b[0m\u001b[0m\n",
      "\u001b[0;31mKeyboardInterrupt\u001b[0m: "
     ]
    }
   ],
   "source": [
    "traj=md.load_xtc(trajectory, top=top)\n",
    "traj"
   ]
  },
  {
   "cell_type": "code",
   "execution_count": 6,
   "metadata": {},
   "outputs": [
    {
     "data": {
      "application/vnd.jupyter.widget-view+json": {
       "model_id": "479ddd3f2eeb4cc287c874f2758005ea",
       "version_major": 2,
       "version_minor": 0
      },
      "text/plain": [
       "NGLWidget(count=218001)"
      ]
     },
     "metadata": {},
     "output_type": "display_data"
    }
   ],
   "source": [
    "view=nv.show_mdtraj (traj)\n",
    "view.clear_representations ()\n",
    "view.add_ball_and_stick (selection='protein', aspectRatio=10)\n",
    "view.add_ball_and_stick(selection='PIC', aspectRatio=10, color='purple')\n",
    "view"
   ]
  },
  {
   "cell_type": "code",
   "execution_count": 8,
   "metadata": {},
   "outputs": [
    {
     "name": "stdout",
     "output_type": "stream",
     "text": [
      "[   8    9   10 ..., 1535 1536 1537]\n"
     ]
    }
   ],
   "source": [
    "print(traj.topology.select('resid 1 to 150'))"
   ]
  },
  {
   "cell_type": "code",
   "execution_count": null,
   "metadata": {},
   "outputs": [],
   "source": [
    "rmsd=md.rmsd (traj, reference=traj, frame=0)\n",
    "plt.plot (rmsd)\n",
    "plt.xlabel ('Frame')\n",
    "plt.ylabel ('RMSD (Angstrom)')"
   ]
  },
  {
   "cell_type": "code",
   "execution_count": null,
   "metadata": {},
   "outputs": [],
   "source": [
    "py_traj = pt.Trajectory(xyz=traj.xyz.astype('f8'), top=top)\n",
    "py_traj"
   ]
  },
  {
   "cell_type": "code",
   "execution_count": 25,
   "metadata": {},
   "outputs": [
    {
     "ename": "AttributeError",
     "evalue": "'numpy.ndarray' object has no attribute 'top'",
     "output_type": "error",
     "traceback": [
      "\u001b[0;31m---------------------------------------------------------------------------\u001b[0m",
      "\u001b[0;31mAttributeError\u001b[0m                            Traceback (most recent call last)",
      "\u001b[0;32m<ipython-input-25-b9dd2108dc23>\u001b[0m in \u001b[0;36m<module>\u001b[0;34m()\u001b[0m\n\u001b[0;32m----> 1\u001b[0;31m \u001b[0mrmsd\u001b[0m\u001b[0;34m=\u001b[0m\u001b[0mpt\u001b[0m\u001b[0;34m.\u001b[0m\u001b[0mrmsd\u001b[0m \u001b[0;34m(\u001b[0m\u001b[0mCD44_traj\u001b[0m\u001b[0;34m,\u001b[0m\u001b[0mref\u001b[0m\u001b[0;34m=\u001b[0m\u001b[0;36m0\u001b[0m\u001b[0;34m)\u001b[0m\u001b[0;34m\u001b[0m\u001b[0m\n\u001b[0m\u001b[1;32m      2\u001b[0m \u001b[0mplt\u001b[0m\u001b[0;34m.\u001b[0m\u001b[0mplot\u001b[0m \u001b[0;34m(\u001b[0m\u001b[0mrmsd\u001b[0m\u001b[0;34m)\u001b[0m\u001b[0;34m\u001b[0m\u001b[0m\n\u001b[1;32m      3\u001b[0m \u001b[0mplt\u001b[0m\u001b[0;34m.\u001b[0m\u001b[0mxlabel\u001b[0m \u001b[0;34m(\u001b[0m\u001b[0;34m'Frame'\u001b[0m\u001b[0;34m)\u001b[0m\u001b[0;34m\u001b[0m\u001b[0m\n\u001b[1;32m      4\u001b[0m \u001b[0mplt\u001b[0m\u001b[0;34m.\u001b[0m\u001b[0mylabel\u001b[0m \u001b[0;34m(\u001b[0m\u001b[0;34m'RMSD (Angstrom)'\u001b[0m\u001b[0;34m)\u001b[0m\u001b[0;34m\u001b[0m\u001b[0m\n",
      "\u001b[0;32m~/miniconda3/envs/Cheminformatics/lib/python3.6/site-packages/pytraj/utils/decorators.py\u001b[0m in \u001b[0;36minner\u001b[0;34m(*args, **kwd)\u001b[0m\n\u001b[1;32m      9\u001b[0m     \u001b[0;34m@\u001b[0m\u001b[0mwraps\u001b[0m\u001b[0;34m(\u001b[0m\u001b[0mf\u001b[0m\u001b[0;34m)\u001b[0m\u001b[0;34m\u001b[0m\u001b[0m\n\u001b[1;32m     10\u001b[0m     \u001b[0;32mdef\u001b[0m \u001b[0minner\u001b[0m\u001b[0;34m(\u001b[0m\u001b[0;34m*\u001b[0m\u001b[0margs\u001b[0m\u001b[0;34m,\u001b[0m \u001b[0;34m**\u001b[0m\u001b[0mkwd\u001b[0m\u001b[0;34m)\u001b[0m\u001b[0;34m:\u001b[0m\u001b[0;34m\u001b[0m\u001b[0m\n\u001b[0;32m---> 11\u001b[0;31m         \u001b[0;32mreturn\u001b[0m \u001b[0mf\u001b[0m\u001b[0;34m(\u001b[0m\u001b[0;34m*\u001b[0m\u001b[0margs\u001b[0m\u001b[0;34m,\u001b[0m \u001b[0;34m**\u001b[0m\u001b[0mkwd\u001b[0m\u001b[0;34m)\u001b[0m\u001b[0;34m\u001b[0m\u001b[0m\n\u001b[0m\u001b[1;32m     12\u001b[0m \u001b[0;34m\u001b[0m\u001b[0m\n\u001b[1;32m     13\u001b[0m     \u001b[0minner\u001b[0m\u001b[0;34m.\u001b[0m\u001b[0m_is_parallelizable\u001b[0m \u001b[0;34m=\u001b[0m \u001b[0;32mTrue\u001b[0m\u001b[0;34m\u001b[0m\u001b[0m\n",
      "\u001b[0;32m~/miniconda3/envs/Cheminformatics/lib/python3.6/site-packages/pytraj/analysis/rmsd.py\u001b[0m in \u001b[0;36mrmsd\u001b[0;34m(traj, mask, ref, ref_mask, nofit, mass, update_coordinate, frame_indices, top, dtype)\u001b[0m\n\u001b[1;32m    341\u001b[0m     \u001b[0mtop_\u001b[0m \u001b[0;34m=\u001b[0m \u001b[0mget_topology\u001b[0m\u001b[0;34m(\u001b[0m\u001b[0mtraj\u001b[0m\u001b[0;34m,\u001b[0m \u001b[0mtop\u001b[0m\u001b[0;34m)\u001b[0m\u001b[0;34m\u001b[0m\u001b[0m\n\u001b[1;32m    342\u001b[0m \u001b[0;34m\u001b[0m\u001b[0m\n\u001b[0;32m--> 343\u001b[0;31m     \u001b[0mref\u001b[0m \u001b[0;34m=\u001b[0m \u001b[0mget_reference\u001b[0m\u001b[0;34m(\u001b[0m\u001b[0mtraj\u001b[0m\u001b[0;34m,\u001b[0m \u001b[0mref\u001b[0m\u001b[0;34m)\u001b[0m\u001b[0;34m\u001b[0m\u001b[0m\n\u001b[0m\u001b[1;32m    344\u001b[0m     \u001b[0mfi\u001b[0m \u001b[0;34m=\u001b[0m \u001b[0mget_fiterator\u001b[0m\u001b[0;34m(\u001b[0m\u001b[0mtraj\u001b[0m\u001b[0;34m,\u001b[0m \u001b[0mframe_indices\u001b[0m\u001b[0;34m)\u001b[0m\u001b[0;34m\u001b[0m\u001b[0m\n\u001b[1;32m    345\u001b[0m \u001b[0;34m\u001b[0m\u001b[0m\n",
      "\u001b[0;32m~/miniconda3/envs/Cheminformatics/lib/python3.6/site-packages/pytraj/utils/get_common_objects.py\u001b[0m in \u001b[0;36mget_reference\u001b[0;34m(traj, ref)\u001b[0m\n\u001b[1;32m    151\u001b[0m         \u001b[0;32mtry\u001b[0m\u001b[0;34m:\u001b[0m\u001b[0;34m\u001b[0m\u001b[0m\n\u001b[1;32m    152\u001b[0m             \u001b[0mref_\u001b[0m \u001b[0;34m=\u001b[0m \u001b[0mtraj\u001b[0m\u001b[0;34m[\u001b[0m\u001b[0mref\u001b[0m\u001b[0;34m]\u001b[0m\u001b[0;34m\u001b[0m\u001b[0m\n\u001b[0;32m--> 153\u001b[0;31m             \u001b[0mref_\u001b[0m\u001b[0;34m.\u001b[0m\u001b[0mtop\u001b[0m \u001b[0;34m=\u001b[0m \u001b[0mtraj\u001b[0m\u001b[0;34m.\u001b[0m\u001b[0mtop\u001b[0m\u001b[0;34m\u001b[0m\u001b[0m\n\u001b[0m\u001b[1;32m    154\u001b[0m         \u001b[0;32mexcept\u001b[0m \u001b[0mTypeError\u001b[0m\u001b[0;34m:\u001b[0m\u001b[0;34m\u001b[0m\u001b[0m\n\u001b[1;32m    155\u001b[0m             \u001b[0;32mraise\u001b[0m \u001b[0mTypeError\u001b[0m\u001b[0;34m(\u001b[0m\u001b[0;34m\"%s does not support indexing\"\u001b[0m \u001b[0;34m%\u001b[0m \u001b[0mstr\u001b[0m\u001b[0;34m(\u001b[0m\u001b[0mtraj\u001b[0m\u001b[0;34m)\u001b[0m\u001b[0;34m)\u001b[0m\u001b[0;34m\u001b[0m\u001b[0m\n",
      "\u001b[0;31mAttributeError\u001b[0m: 'numpy.ndarray' object has no attribute 'top'"
     ]
    }
   ],
   "source": [
    "rmsd=pt.rmsd (py_traj,ref=0, mask=[':6-150'])\n",
    "plt.plot (rmsd)\n",
    "plt.xlabel ('Frame')\n",
    "plt.ylabel ('RMSD (Angstrom)')"
   ]
  },
  {
   "cell_type": "code",
   "execution_count": null,
   "metadata": {},
   "outputs": [],
   "source": [
    "rmsf = pt.rmsf(py_traj, mask='@CA')\n",
    "plt.plot(rmsf.T[0], rmsf.T[1])\n",
    "plt.xlabel('atom')\n",
    "plt.ylabel('RMSF (Angstrom)')"
   ]
  },
  {
   "cell_type": "markdown",
   "metadata": {},
   "source": [
    "# Hbonds"
   ]
  },
  {
   "cell_type": "code",
   "execution_count": null,
   "metadata": {},
   "outputs": [],
   "source": [
    "hbonds_acceptor=pt.search_hbonds (py_traj,distance=3.0, series=True, options='acceptormask :PIC')\n",
    "hbonds_donor=pt.search_hbonds (py_traj,distance=3.0, series=True, options='donormask :PIC')\n",
    "print ('Acceptor pairs:')\n",
    "print (hbonds_acceptor.donor_acceptor)\n",
    "print ('Donor pairs:')\n",
    "print (hbonds_donor.donor_acceptor)"
   ]
  },
  {
   "cell_type": "markdown",
   "metadata": {},
   "source": [
    "## Acceptor"
   ]
  },
  {
   "cell_type": "code",
   "execution_count": null,
   "metadata": {},
   "outputs": [],
   "source": [
    "distance_mask = hbonds_acceptor.get_amber_mask()[0]\n",
    "print('hbond distance mask: {} \\n '.format(distance_mask))\n",
    "print ((len (distance_mask)),'hbond where found')\n",
    "angle_mask = hbonds_acceptor.get_amber_mask()[1]\n",
    "print('hbond angle mask: {} \\n'.format(angle_mask))\n",
    "print(\"hbond data\")\n",
    "print(hbonds_acceptor.data) # 1: have hbond; 0: does not have hbond"
   ]
  },
  {
   "cell_type": "code",
   "execution_count": null,
   "metadata": {},
   "outputs": [],
   "source": [
    "# compute distance between donor-acceptor for ALL frames (also include frames that do not form hbond)\n",
    "dist_acceptor = pt.distance(py_traj,hbonds_acceptor.get_amber_mask()[0])\n",
    "print('all hbond distances: ', dist_acceptor)"
   ]
  },
  {
   "cell_type": "code",
   "execution_count": null,
   "metadata": {},
   "outputs": [],
   "source": [
    "angle_acceptor = pt.angle(py_traj, hbonds_acceptor.get_amber_mask()[1])\n",
    "angle_acceptor"
   ]
  },
  {
   "cell_type": "code",
   "execution_count": null,
   "metadata": {},
   "outputs": [],
   "source": [
    "a=np.arange (len(distance_mask))\n",
    "for i in range (len(a)):\n",
    "plt.figure ()\n",
    "plt.subplot(3,1,1)\n",
    "plt.plot(hbonds_acceptor.data [i])\n",
    "plt.xlabel (hbonds_acceptor.donor_acceptor [i])\n",
    "plt.ylabel ('Frecuency')\n",
    "save=pd.DataFrame ([hbonds_acceptor.data[i]])\n",
    "t=save.transpose ()\n",
    "#t.to_csv('/home/angel/Escritorio/'+hbonds_acceptor.donor_acceptor[i]+'.csv')"
   ]
  },
  {
   "cell_type": "markdown",
   "metadata": {},
   "source": [
    "## Donor"
   ]
  },
  {
   "cell_type": "code",
   "execution_count": null,
   "metadata": {},
   "outputs": [],
   "source": [
    "distance_mask = hbonds_donor.get_amber_mask()[0]\n",
    "print('hbond distance mask: {} \\n '.format(distance_mask))\n",
    "angle_mask = hbonds_donor.get_amber_mask()[1]\n",
    "print('hbond angle mask: {} \\n'.format(angle_mask))\n",
    "print(\"hbond data\")\n",
    "print(hbonds_donor.data) # 1: have hbond; 0: does not have hbond"
   ]
  },
  {
   "cell_type": "code",
   "execution_count": null,
   "metadata": {},
   "outputs": [],
   "source": [
    "# compute distance between donor-acceptor for ALL frames (also include frames that do not form hbond)\n",
    "dist_donor = pt.distance(py_traj,hbonds_donor.get_amber_mask()[0])\n",
    "print('all hbond distances: ', dist_donor)"
   ]
  },
  {
   "cell_type": "code",
   "execution_count": null,
   "metadata": {},
   "outputs": [],
   "source": [
    "angle_donor = pt.angle(py_traj, hbonds_donor.get_amber_mask()[1])\n",
    "angle_donor"
   ]
  },
  {
   "cell_type": "code",
   "execution_count": null,
   "metadata": {},
   "outputs": [],
   "source": [
    "d=np.arange (len(distance_mask))\n",
    "for i in range (len(d)):\n",
    "plt.figure ()\n",
    "plt.subplot(3,1,1)\n",
    "plt.plot(hbonds_donor.data [i])\n",
    "plt.xlabel (hbonds_donor.donor_acceptor [i])\n",
    "plt.ylabel ('Frecuency')\n",
    "#save=pd.DataFrame ([hbonds_donor.data[i]])\n",
    "#t=save.transpose ()\n",
    "#t.to_csv('/home/angel/Escritorio/'+hbonds_donor.donor_acceptor[i]+'.csv')"
   ]
  },
  {
   "cell_type": "markdown",
   "metadata": {},
   "source": [
    "## Pictilisib"
   ]
  },
  {
   "cell_type": "code",
   "execution_count": null,
   "metadata": {},
   "outputs": [],
   "source": [
    "pic=py_traj [':151']\n",
    "pic"
   ]
  },
  {
   "cell_type": "code",
   "execution_count": null,
   "metadata": {},
   "outputs": [],
   "source": [
    "rmsd= pt.rmsd (pic,ref=0)\n",
    "plt.plot (rmsd)\n",
    "plt.xlabel ('Frame')\n",
    "plt.ylabel ('RMSD (A)')"
   ]
  },
  {
   "cell_type": "code",
   "execution_count": null,
   "metadata": {},
   "outputs": [],
   "source": [
    "rmsf=pt.rmsf (pic)\n",
    "plt.plot(rmsf.T[0], rmsf.T[1])\n",
    "plt.xlabel('atom')\n",
    "plt.ylabel('RMSF (Angstrom)')"
   ]
  }
 ],
 "metadata": {
  "kernelspec": {
   "display_name": "Python 3",
   "language": "python",
   "name": "python3"
  },
  "language_info": {
   "codemirror_mode": {
    "name": "ipython",
    "version": 3
   },
   "file_extension": ".py",
   "mimetype": "text/x-python",
   "name": "python",
   "nbconvert_exporter": "python",
   "pygments_lexer": "ipython3",
   "version": "3.6.6"
  }
 },
 "nbformat": 4,
 "nbformat_minor": 2
}
