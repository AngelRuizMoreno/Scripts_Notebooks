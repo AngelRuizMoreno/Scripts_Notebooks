{
 "cells": [
  {
   "cell_type": "code",
   "execution_count": 1,
   "id": "ec1f4977-21a1-462f-bcc8-8ed92db3a094",
   "metadata": {
    "tags": []
   },
   "outputs": [],
   "source": [
    "# Import the required modules\n",
    "from Bio.Blast import NCBIWWW\n",
    "from Bio import SeqIO"
   ]
  },
  {
   "cell_type": "code",
   "execution_count": 3,
   "id": "a14743f1-c6bd-40a1-9a9f-8133ad464e6f",
   "metadata": {
    "tags": []
   },
   "outputs": [],
   "source": [
    "seq=SeqIO.SeqRecord(seq=\"MKLKHIALIGSLFPILFSLVLFFGVLISADSDDENSNFSAGITGMNLSAEVLKHQPMVEKYARENGISEYVNVLLAIIQVESGGTAEDVMQSSESLGLPPNSLDTESSIKQGCKYFASLLSSCQNQGIDDLNVAIQSYNYGGGYVGYVAGKGKKYTFNLAESFAREKSGGKKVTYTNPIAVAKNGGWRYGYGNMFYVELVNQYLTVPQVSGELAQKVMNEALKYQGWKYVYGGSNPNTSFDCSGLTQWCYGKAGISLPRTAQAQYDATQHLPLSQAKAGDLVFFHSTYNAGTYVTHVAIYVGNNQIYHAGDPIGYADLSSSYWQQHLIGAGRVKQ\",\n",
    "                id=\"PRJNA45957_Anaerostipes_hadrus | Peptidase P60 0.674\")"
   ]
  },
  {
   "cell_type": "code",
   "execution_count": 6,
   "id": "b51ea862-3246-4ee7-bf11-6e4dd540562a",
   "metadata": {
    "tags": []
   },
   "outputs": [],
   "source": [
    "result_handle = NCBIWWW.qblast(\"blastp\", \"swissprot\", seq.seq, expect=0.001, hitlist_size=10)"
   ]
  },
  {
   "cell_type": "code",
   "execution_count": 7,
   "id": "60366c85-e1c2-4cb9-bbc6-69c955af3efc",
   "metadata": {
    "tags": []
   },
   "outputs": [],
   "source": [
    "# Save the result as an xml file\n",
    "with open(f\"{seq.id}_pblast.xml\", \"w\") as out_file:\n",
    "    out_file.write(result_handle.read())\n",
    "\n",
    "# Close the result handle\n",
    "result_handle.close()"
   ]
  },
  {
   "cell_type": "code",
   "execution_count": 9,
   "id": "bb54fb11-2956-4881-b854-5c862783e457",
   "metadata": {
    "tags": []
   },
   "outputs": [],
   "source": [
    "from Bio.Blast import NCBIXML"
   ]
  },
  {
   "cell_type": "code",
   "execution_count": 11,
   "id": "0ac9b47f-9507-4289-aaee-ca5a7198d0cd",
   "metadata": {
    "tags": []
   },
   "outputs": [],
   "source": [
    "p=NCBIXML.BlastParser(\"PRJNA45957_Anaerostipes_hadrus\\ \\|\\ Peptidase\\ P60\\ 0.674_pblast.xml\")"
   ]
  },
  {
   "cell_type": "code",
   "execution_count": 14,
   "id": "19b1531c-d625-4103-a1b8-04324d58ee32",
   "metadata": {
    "tags": []
   },
   "outputs": [
    {
     "ename": "TypeError",
     "evalue": "_XMLparser.characters() missing 1 required positional argument: 'ch'",
     "output_type": "error",
     "traceback": [
      "\u001b[0;31m---------------------------------------------------------------------------\u001b[0m",
      "\u001b[0;31mTypeError\u001b[0m                                 Traceback (most recent call last)",
      "Cell \u001b[0;32mIn[14], line 1\u001b[0m\n\u001b[0;32m----> 1\u001b[0m p\u001b[38;5;241m.\u001b[39mcharacters()\n",
      "\u001b[0;31mTypeError\u001b[0m: _XMLparser.characters() missing 1 required positional argument: 'ch'"
     ]
    }
   ],
   "source": [
    "p.characters()"
   ]
  },
  {
   "cell_type": "code",
   "execution_count": null,
   "id": "13aa48e4-bb95-40f6-b7a2-0369a7645e43",
   "metadata": {},
   "outputs": [],
   "source": [
    "rid = req.text.split(\"\\n\")[3].split()[2]\n",
    "\n",
    "rtoe = int(req.text.split(\"\\n\")[4].split()[2])\n",
    "\n",
    "time.sleep(rtoe)\n",
    "\n",
    "while True: \n",
    "    time.sleep(5)\n",
    "\n",
    "req = requests.get(f\"https://blast.ncbi.nlm.nih.gov/blast/Blast.cgi?CMD=Get&FORMAT_OBJECT=SearchInfo&RID={rid}\")\n",
    "\n",
    "if \"Status=WAITING\" in req.text:\n",
    "    print(\"Searching...\")\n",
    "    continue\n",
    "\n",
    "if \"Status=FAILED\" in req.text:\n",
    "    print(f\"Search {rid} failed; please report to blast-help@ncbi.nlm.nih.gov.\")\n",
    "    sys.exit(4)\n",
    "\n",
    "if \"Status=UNKNOWN\" in req.text:\n",
    "    print(f\"Search {rid} expired.\")\n",
    "    sys.exit(3)\n",
    "\n",
    "if \"Status=READY\" in req.text:\n",
    "    if \"ThereAreHits=yes\" in req.text:\n",
    "        print(\"Search complete, retrieving results...\")\n",
    "        break\n",
    "    else:\n",
    "        print(\"No hits found.\")\n",
    "        sys.exit(2)\n",
    "\n",
    "sys.exit(5)\n",
    "\n",
    "req = requests.get(f\"https://blast.ncbi.nlm.nih.gov/blast/Blast.cgi?CMD=Get&FORMAT_TYPE=Text&RID={rid}\")\n",
    "\n",
    "print(req.text)"
   ]
  }
 ],
 "metadata": {
  "kernelspec": {
   "display_name": "MicrobeRX",
   "language": "python",
   "name": "microberx"
  },
  "language_info": {
   "codemirror_mode": {
    "name": "ipython",
    "version": 3
   },
   "file_extension": ".py",
   "mimetype": "text/x-python",
   "name": "python",
   "nbconvert_exporter": "python",
   "pygments_lexer": "ipython3",
   "version": "3.11.5"
  }
 },
 "nbformat": 4,
 "nbformat_minor": 5
}
