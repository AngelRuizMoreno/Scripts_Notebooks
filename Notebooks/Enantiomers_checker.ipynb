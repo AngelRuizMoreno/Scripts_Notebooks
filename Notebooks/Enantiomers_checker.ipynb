{
 "cells": [
  {
   "cell_type": "code",
   "execution_count": 1,
   "metadata": {},
   "outputs": [],
   "source": [
    "from rdkit import Chem\n",
    "from rdkit.Chem.EnumerateStereoisomers import EnumerateStereoisomers, StereoEnumerationOptions"
   ]
  },
  {
   "cell_type": "code",
   "execution_count": 15,
   "metadata": {},
   "outputs": [
    {
     "name": "stdout",
     "output_type": "stream",
     "text": [
      "CC(C)CC(=O)N1CCN(Cc2ccc3ccccc3c2)CC1\n"
     ]
    }
   ],
   "source": [
    "m = Chem.MolFromSmiles('CC(C)CC(=O)N1CCN(Cc2ccc3ccccc3c2)CC1')\n",
    "opts = StereoEnumerationOptions(unique=True)\n",
    "isomers = tuple(EnumerateStereoisomers(m, options=opts))\n",
    "len(isomers)\n",
    "10\n",
    "for smi in sorted(Chem.MolToSmiles(x,isomericSmiles=True) for x in isomers):\n",
    "    print(smi)"
   ]
  },
  {
   "cell_type": "code",
   "execution_count": null,
   "metadata": {},
   "outputs": [],
   "source": []
  }
 ],
 "metadata": {
  "kernelspec": {
   "display_name": "Chem_3",
   "language": "python",
   "name": "chem_3"
  },
  "language_info": {
   "codemirror_mode": {
    "name": "ipython",
    "version": 3
   },
   "file_extension": ".py",
   "mimetype": "text/x-python",
   "name": "python",
   "nbconvert_exporter": "python",
   "pygments_lexer": "ipython3",
   "version": "3.7.7"
  }
 },
 "nbformat": 4,
 "nbformat_minor": 4
}
