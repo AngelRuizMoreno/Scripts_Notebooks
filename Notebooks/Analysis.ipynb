{
 "cells": [
  {
   "cell_type": "code",
   "execution_count": null,
   "metadata": {},
   "outputs": [],
   "source": [
    "import os\n",
    "import pandas as pd\n",
    "import numpy as np\n",
    "import json\n",
    "import matplotlib.pyplot as plt\n",
    "from matplotlib import gridspec\n",
    "\n",
    "\n",
    "from rdkit import Chem\n",
    "from rdkit.Chem import AllChem, Descriptors, Descriptors3D, Draw, rdMolDescriptors\n",
    "\n",
    "#from Bio import pairwise2\n",
    "#from Bio.pairwise2 import format_alignment\n",
    "#import itertools\n",
    "#import mmtf\n",
    "\n",
    "#from scipy.cluster.hierarchy import dendrogram, linkage\n",
    "import progressbar\n",
    "from math import pi"
   ]
  },
  {
   "cell_type": "code",
   "execution_count": null,
   "metadata": {},
   "outputs": [],
   "source": [
    "table=pd.read_excel('Cys_DataBase_FINAL.xlsx')"
   ]
  },
  {
   "cell_type": "code",
   "execution_count": null,
   "metadata": {},
   "outputs": [],
   "source": [
    "table.head(2)"
   ]
  },
  {
   "cell_type": "code",
   "execution_count": null,
   "metadata": {},
   "outputs": [],
   "source": [
    "bar = indexgressbar.ProgressBar(max_value=len(table.index))"
   ]
  },
  {
   "cell_type": "code",
   "execution_count": null,
   "metadata": {},
   "outputs": [],
   "source": [
    "for name in table.index:\n",
    "    for file in os.listdir('DATA/Interactions/'):\n",
    "        if table.loc[name,'identifier'].split('_')[0]==file.split('.')[0]:\n",
    "            with open('DATA/Interactions/'+file) as json_file:\n",
    "                data = json.load(json_file)\n",
    "                table.loc[name,'hbond']=len(data.get('Interactions')['hbond'])\n",
    "                table.loc[name,'hdon_pi']=len(data.get('Interactions')['hdon_pi'])\n",
    "                table.loc[name,'ionic']=len(data.get('Interactions')['ionic'])\n",
    "                table.loc[name,'pi_pi']=len(data.get('Interactions')['pi_pi'])\n",
    "                table.loc[name,'poor_ang']=len(data.get('Interactions')['poor_ang'])\n",
    "                table.loc[name,'unclass']=len(data.get('Interactions')['unclass'])\n",
    "                table.loc[name,'unfav']=len(data.get('Interactions')['unfav'])\n",
    "                table.loc[name,'vdW']=len(data.get('Interactions')['vdW'])\n",
    "                table.loc[name,'scorpion_score']=float(data.get('Scorpion_score'))\n",
    "                table.loc[name,'smiles_cov']=data.get('Structures')['smiles']\n",
    "                bar.update(name)"
   ]
  },
  {
   "cell_type": "code",
   "execution_count": null,
   "metadata": {},
   "outputs": [],
   "source": [
    "for name in table.index:\n",
    "    try:\n",
    "        x=mmtf.fetch(table.loc[name,'identifier'].split('_')[0])\n",
    "        table.loc[name,'sequence']=x.entity_list[0]['sequence']\n",
    "        bar.update(name)\n",
    "    except Exception:\n",
    "        continue"
   ]
  },
  {
   "cell_type": "code",
   "execution_count": null,
   "metadata": {},
   "outputs": [],
   "source": [
    "table.head(2)"
   ]
  },
  {
   "cell_type": "code",
   "execution_count": null,
   "metadata": {},
   "outputs": [],
   "source": [
    "table.to_excel('Cys_DataBase_FINAL.xlsx')"
   ]
  },
  {
   "cell_type": "markdown",
   "metadata": {},
   "source": [
    "# SMILES and analysis of molecular descriptor (CHEM_3 enviroment)"
   ]
  },
  {
   "cell_type": "code",
   "execution_count": null,
   "metadata": {},
   "outputs": [],
   "source": [
    "mols=Chem.SDMolSupplier('DATA/final.sdf',False)"
   ]
  },
  {
   "cell_type": "code",
   "execution_count": null,
   "metadata": {},
   "outputs": [],
   "source": [
    "for name in table.index:\n",
    "    for i,file in enumerate(os.listdir('DATA/Ligands/')):\n",
    "        if table.loc[name,'identifier'].split('_')[0]==file.split('.')[0]:\n",
    "            \n",
    "            mol=mols[i]\n",
    "            mol.UpdatePropertyCache(strict=False)\n",
    "            Chem.SanitizeMol(mol,Chem.SanitizeFlags.SANITIZE_FINDRADICALS|Chem.SanitizeFlags.SANITIZE_KEKULIZE\n",
    "                             |Chem.SanitizeFlags.SANITIZE_SETAROMATICITY|Chem.SanitizeFlags.SANITIZE_SETCONJUGATION\n",
    "                             |Chem.SanitizeFlags.SANITIZE_SETHYBRIDIZATION|Chem.SanitizeFlags.SANITIZE_SYMMRINGS,catchErrors=True)\n",
    "            \n",
    "            table.loc[name,'MolWt_cov']=Descriptors.MolWt(mol)\n",
    "            table.loc[name,'LogP_cov']=Descriptors.MolLogP(mol)\n",
    "            table.loc[name,'NumHAcceptors_cov']=Descriptors.NumHAcceptors(mol)\n",
    "            table.loc[name,'NumHDonors_cov']=Descriptors.NumHDonors(mol)\n",
    "            table.loc[name,'NumHeteroatoms_cov']=Descriptors.NumHeteroatoms(mol)\n",
    "            table.loc[name,'NumRotableBonds_cov']=Descriptors.NumRotatableBonds(mol)\n",
    "\n",
    "            table.loc[name,'TPSA_cov']=Descriptors.TPSA(mol)\n",
    "            table.loc[name,'PMI1_cov']=Descriptors3D.PMI1(mol)\n",
    "            table.loc[name,'PMI2_cov']=Descriptors3D.PMI2(mol)\n",
    "            table.loc[name,'PMI3_cov']=Descriptors3D.PMI3(mol)\n",
    "            table.loc[name,'PBF_cov']=rdMolDescriptors.CalcPBF(mol)\n",
    "            table.loc[name,'NPR1_cov']=rdMolDescriptors.CalcNPR1(mol)\n",
    "            table.loc[name,'NPR2_cov']=rdMolDescriptors.CalcNPR2(mol)\n",
    "            table.loc[name,'ISF_cov']=Descriptors3D.InertialShapeFactor(mol)"
   ]
  },
  {
   "cell_type": "code",
   "execution_count": null,
   "metadata": {},
   "outputs": [],
   "source": [
    "table.head(2)"
   ]
  },
  {
   "cell_type": "code",
   "execution_count": null,
   "metadata": {},
   "outputs": [],
   "source": [
    "table.to_excel('Cys_DataBase_FINAL.xlsx')"
   ]
  },
  {
   "cell_type": "markdown",
   "metadata": {},
   "source": [
    "# Charts"
   ]
  },
  {
   "cell_type": "code",
   "execution_count": null,
   "metadata": {},
   "outputs": [],
   "source": [
    "size=len(table['sequence'].dropna())\n",
    "hmap=np.empty(shape=(size,size))\n",
    "bar = progressbar.ProgressBar(max_value=len(table['sequence'].dropna()))\n",
    "hmap_table=pd.DataFrame()\n",
    "for index,i in enumerate(table['sequence'].dropna()):\n",
    "    for jndex,j in enumerate(table['sequence'].dropna()):\n",
    "        a=i\n",
    "        b=j\n",
    "        alignment= pairwise2.align.globalxx(a, b,score_only=True)\n",
    "        identity=((alignment*100)/len(b))\n",
    "        hmap[index,jndex]=identity\n",
    "        hmap_table.loc[table.loc[index,'identifier'].split('_')[0],table.loc[jndex,'identifier'].split('_')[0]]=identity\n",
    "    bar.update(index)"
   ]
  },
  {
   "cell_type": "code",
   "execution_count": null,
   "metadata": {},
   "outputs": [],
   "source": [
    "linked = linkage(hmap, 'single')\n",
    "labelList =[i for i in hmap_table.index]"
   ]
  },
  {
   "cell_type": "code",
   "execution_count": null,
   "metadata": {},
   "outputs": [],
   "source": [
    "plt.figure(figsize=(10,10))\n",
    "\n",
    "ax1=plt.subplot()\n",
    "o=dendrogram(linked,  \n",
    "            orientation='left',\n",
    "            labels=labelList,\n",
    "            distance_sort='descending',\n",
    "            show_leaf_counts=True)\n",
    "\n",
    "ax1.spines['left'].set_visible(False)\n",
    "ax1.spines['top'].set_visible(False)\n",
    "ax1.spines['right'].set_visible(False)\n",
    "\n",
    "plt.tick_params ('both',width=2,labelsize=5)\n",
    "plt.tight_layout()\n",
    "plt.savefig('DATA/Charts/HCL.svg',dpi=600,format='svg',transparent=False)\n",
    "plt.show()"
   ]
  },
  {
   "cell_type": "code",
   "execution_count": null,
   "metadata": {},
   "outputs": [],
   "source": [
    "new_data=list(reversed(o['ivl']))\n",
    "# we create a new table with the order of HCL\n",
    "hmap_2=np.empty(shape=(size,size))\n",
    "for index,i in enumerate(new_data):\n",
    "    for jndex,j in enumerate(new_data):\n",
    "        hmap_2[index,jndex]=hmap_table.loc[i].at[j]"
   ]
  },
  {
   "cell_type": "code",
   "execution_count": null,
   "metadata": {},
   "outputs": [],
   "source": [
    "figure= plt.figure(figsize=(30,30))\n",
    "gs1 = gridspec.GridSpec(2,7)\n",
    "gs1.update(wspace=0.01)\n",
    "ax1 = plt.subplot(gs1[0:-1, :2])\n",
    "dendrogram(linked, orientation='left', distance_sort='descending',show_leaf_counts=True,no_labels=True)\n",
    "ax1.spines['left'].set_visible(False)\n",
    "ax1.spines['top'].set_visible(False)\n",
    "ax1.spines['right'].set_visible(False)\n",
    "\n",
    "ax2 = plt.subplot(gs1[0:-1,2:6])\n",
    "f=ax2.imshow (hmap_2, cmap='RdBu_r', interpolation='nearest')\n",
    "\n",
    "ax2.set_title('Sequence Indentity',fontsize=30,weight='bold')\n",
    "ax2.set_xticks (range(len(new_data)))\n",
    "ax2.set_yticks (range(len(new_data)))\n",
    "ax2.set_xticklabels (new_data,rotation=90,size=3)\n",
    "ax2.set_yticklabels (new_data,size=3)\n",
    "\n",
    "ax3 = plt.subplot(gs1[0:-1,6:7])\n",
    "m=plt.colorbar(f,cax=ax3,shrink=0.75,orientation='vertical',spacing='uniform',pad=0.01)\n",
    "m.set_label ('% Indentity',fontsize=25)\n",
    "m.ax.tick_params(labelsize=25)\n",
    "plt.savefig('DATA/Charts/HCL_Hmap.svg',dpi=600,format='svg',transparent=False)\n",
    "plt.tick_params ('both',width=2)\n",
    "plt.plot()"
   ]
  },
  {
   "cell_type": "code",
   "execution_count": null,
   "metadata": {},
   "outputs": [],
   "source": [
    "hmap_table.to_excel('identity.xlsx')"
   ]
  },
  {
   "cell_type": "code",
   "execution_count": null,
   "metadata": {},
   "outputs": [],
   "source": []
  },
  {
   "cell_type": "code",
   "execution_count": null,
   "metadata": {},
   "outputs": [],
   "source": []
  },
  {
   "cell_type": "markdown",
   "metadata": {},
   "source": [
    "## Pie chart"
   ]
  },
  {
   "cell_type": "code",
   "execution_count": null,
   "metadata": {},
   "outputs": [],
   "source": [
    "x=table.groupby('Covalent_reaction_type').size().plot(kind='pie')"
   ]
  },
  {
   "cell_type": "code",
   "execution_count": null,
   "metadata": {},
   "outputs": [],
   "source": [
    "df = pd.DataFrame(table.groupby('Covalent_reaction_type').size())"
   ]
  },
  {
   "cell_type": "code",
   "execution_count": null,
   "metadata": {},
   "outputs": [],
   "source": [
    "df.index"
   ]
  },
  {
   "cell_type": "code",
   "execution_count": null,
   "metadata": {},
   "outputs": [],
   "source": [
    "df=df.sort_values(0,ascending=False)"
   ]
  },
  {
   "cell_type": "code",
   "execution_count": null,
   "metadata": {},
   "outputs": [],
   "source": [
    "df.to_excel('Table_reaction_type.xlsx')"
   ]
  },
  {
   "cell_type": "code",
   "execution_count": null,
   "metadata": {},
   "outputs": [],
   "source": [
    "fig, ax1 = plt.subplots(figsize=(12, 6), subplot_kw=dict(aspect=\"equal\"))\n",
    "\n",
    "\n",
    "wedges, texts,autotexts =ax1.pie(df,wedgeprops=dict(width=0.3), startangle=-40,autopct='%1.1f%%',pctdistance=0.82)\n",
    "\n",
    "bbox_props = dict(boxstyle=\"square,pad=0.3\", fc=\"w\", ec=\"k\", lw=0.5)\n",
    "\n",
    "kw = dict(arrowprops=dict(arrowstyle=\"-\"),\n",
    "          bbox=bbox_props, zorder=0, va=\"center\")\n",
    "\n",
    "for i, p in enumerate(wedges):\n",
    "    ang = (p.theta2 - p.theta1)/2.+ p.theta1\n",
    "    \n",
    "    y = np.sin(np.deg2rad(ang))\n",
    "    x = np.cos(np.deg2rad(ang))\n",
    "    horizontalalignment = {-1: \"right\", 1: \"left\"}[int(np.sign(x))]\n",
    "    connectionstyle = \"angle,angleA=0,angleB={}\".format(ang)\n",
    "    kw[\"arrowprops\"].update({\"connectionstyle\": connectionstyle})\n",
    "    ax1.annotate(df.index[i], xy=(x, y), xytext=(1.2*np.sign(x), 1.4*y),\n",
    "                 horizontalalignment=horizontalalignment, **kw)\n",
    "\n",
    "ax1.axis('equal')  \n",
    "\n",
    "plt.tight_layout()\n",
    "\n",
    "plt.savefig('DATA/Charts/Pie_reaction_type_2.svg',dpi=600,format='svg',transparent=False)\n",
    "plt.show()"
   ]
  },
  {
   "cell_type": "code",
   "execution_count": null,
   "metadata": {},
   "outputs": [],
   "source": []
  },
  {
   "cell_type": "code",
   "execution_count": null,
   "metadata": {},
   "outputs": [],
   "source": [
    "from math import log10\n",
    "from matplotlib import cm\n",
    "\n",
    "#number of data points\n",
    "n = len(df.index)\n",
    "#find max value for full ring\n",
    "k = 10 ** int(log10(max(df[0])))\n",
    "m = k * (1 + max(df[0]) // k)\n",
    "\n",
    "#radius of donut chart\n",
    "r = 1.5\n",
    "#calculate width of each ring\n",
    "w = r / n \n",
    "\n",
    "#create colors along a chosen colormap\n",
    "colors = [cm.terrain(i / n) for i in range(n)]\n",
    "\n",
    "#create figure, axis\n",
    "fig, ax = plt.subplots(figsize=(10,10))\n",
    "ax.axis(\"equal\")\n",
    "\n",
    "#create rings of donut chart\n",
    "for i in range(n):\n",
    "    #hide labels in segments with textprops: alpha = 0 - transparent, alpha = 1 - visible\n",
    "    innerring, _ = ax.pie([m - df[0][i], df[0][i]], radius = r - i * w, startangle = 90, labels = [\"\", df.index[i]], labeldistance = 1 - 1 / (1.5 * (n - i)), textprops = {\"alpha\": 0}, colors = [\"white\", colors[i]])\n",
    "    plt.setp(innerring, width = w, edgecolor = \"white\")\n",
    "\n",
    "plt.legend(loc='lower center',frameon=False)\n",
    "plt.savefig('DATA/Charts/Pie_reaction_type_3.svg',dpi=600,format='svg',transparent=False)\n",
    "plt.show()"
   ]
  },
  {
   "cell_type": "markdown",
   "metadata": {},
   "source": [
    "## Pie plot organism"
   ]
  },
  {
   "cell_type": "code",
   "execution_count": null,
   "metadata": {},
   "outputs": [],
   "source": [
    "table['organism']=[str(i).lower() for i in table['organism']]"
   ]
  },
  {
   "cell_type": "code",
   "execution_count": null,
   "metadata": {},
   "outputs": [],
   "source": [
    "table['organism']"
   ]
  },
  {
   "cell_type": "code",
   "execution_count": null,
   "metadata": {},
   "outputs": [],
   "source": [
    "x=table.groupby('organism').size()"
   ]
  },
  {
   "cell_type": "code",
   "execution_count": null,
   "metadata": {},
   "outputs": [],
   "source": [
    "x"
   ]
  },
  {
   "cell_type": "code",
   "execution_count": null,
   "metadata": {},
   "outputs": [],
   "source": [
    "names=table['organism'].dropna().unique()"
   ]
  },
  {
   "cell_type": "code",
   "execution_count": null,
   "metadata": {},
   "outputs": [],
   "source": [
    "plt.figure(figsize=(10,10))\n",
    "\n",
    "ax1=plt.subplot()\n",
    "\n",
    "ax1=table.groupby('Organism').size().plot(kind='pie')\n",
    "\n",
    "ax1.axis('equal')  \n",
    "plt.tight_layout()\n",
    "#plt.savefig('DATA/Charts/Pie_organism.svg',dpi=600,format='svg',transparent=False)\n",
    "plt.show()"
   ]
  },
  {
   "cell_type": "markdown",
   "metadata": {},
   "source": [
    "## MolWt distribution"
   ]
  },
  {
   "cell_type": "code",
   "execution_count": null,
   "metadata": {},
   "outputs": [],
   "source": [
    "table.columns"
   ]
  },
  {
   "cell_type": "code",
   "execution_count": null,
   "metadata": {},
   "outputs": [],
   "source": [
    "table['MolWt_cov'].dropna()"
   ]
  },
  {
   "cell_type": "code",
   "execution_count": null,
   "metadata": {},
   "outputs": [],
   "source": [
    "from scipy import stats ## Ver después en el notebook de Statmodels\n",
    "h=list(table['MolWt_cov'].dropna()) ## Disperción en X\n",
    "h.sort()\n",
    "hmean = np.mean(h)\n",
    "hstd = np.std(h)\n",
    "pdf = stats.norm.pdf(h, hmean, hstd)"
   ]
  },
  {
   "cell_type": "code",
   "execution_count": null,
   "metadata": {},
   "outputs": [],
   "source": [
    "plt.figure(figsize=(8,6))\n",
    "plt.tick_params ('both',width=2,labelsize=12)\n",
    "ax = plt.subplot(111)\n",
    "ax.plot(h,pdf,'k--',linewidth=2.0)\n",
    "ax.hist(h,density=True,histtype='step',color='gray',linewidth=1.5)\n",
    "ax.set_title ('Probability Distribution',fontsize=14,fontweight='bold')\n",
    "ax.set_xlabel ('Molecular Weight',fontsize=12,fontweight='bold')\n",
    "ax.set_ylabel ('Probability',fontsize=12,fontweight='bold')\n",
    "\n",
    "## Añade una linea en el promedio de los datos\n",
    "ax.axvline(x=hmean,color='r',linewidth=1,linestyle='--',)\n",
    "\n",
    "ax.spines['right'].set_visible(False)\n",
    "ax.spines['top'].set_visible(False)\n",
    "\n",
    "plt.tight_layout()\n",
    "plt.savefig('DATA/Charts/MolWt.svg',dpi=600,format='svg',transparent=False)\n",
    "plt.show()"
   ]
  },
  {
   "cell_type": "code",
   "execution_count": null,
   "metadata": {},
   "outputs": [],
   "source": [
    "h=list(table['LogP_cov'].dropna()) ## Disperción en X\n",
    "h.sort()\n",
    "hmean = np.mean(h)\n",
    "hstd = np.std(h)\n",
    "pdf = stats.norm.pdf(h, hmean, hstd)\n",
    "\n",
    "plt.figure(figsize=(8,6))\n",
    "plt.tick_params ('both',width=2,labelsize=12)\n",
    "ax = plt.subplot(111)\n",
    "ax.plot(h,pdf,'k--',linewidth=2.0)\n",
    "ax.hist(h,density=True,histtype='step',color='gray',linewidth=1.5)\n",
    "ax.set_title ('Probability Distribution',fontsize=14,fontweight='bold')\n",
    "ax.set_xlabel ('LogP',fontsize=12,fontweight='bold')\n",
    "ax.set_ylabel ('Probability',fontsize=12,fontweight='bold')\n",
    "\n",
    "## Añade una linea en el promedio de los datos\n",
    "ax.axvline(x=hmean,color='r',linewidth=1,linestyle='--',)\n",
    "\n",
    "ax.spines['right'].set_visible(False)\n",
    "ax.spines['top'].set_visible(False)\n",
    "\n",
    "plt.tight_layout()\n",
    "plt.savefig('DATA/Charts/LogP.svg',dpi=600,format='svg',transparent=False)\n",
    "plt.show()"
   ]
  },
  {
   "cell_type": "code",
   "execution_count": null,
   "metadata": {},
   "outputs": [],
   "source": [
    "h=list(table['TPSA_cov'].dropna()) ## Disperción en X\n",
    "h.sort()\n",
    "hmean = np.mean(h)\n",
    "hstd = np.std(h)\n",
    "pdf = stats.norm.pdf(h, hmean, hstd)\n",
    "\n",
    "plt.figure(figsize=(8,6))\n",
    "plt.tick_params ('both',width=2,labelsize=12)\n",
    "ax = plt.subplot(111)\n",
    "ax.plot(h,pdf,'k--',linewidth=2.0)\n",
    "ax.hist(h,density=True,histtype='step',color='gray',linewidth=1.5)\n",
    "ax.set_title ('Probability Distribution',fontsize=14,fontweight='bold')\n",
    "ax.set_xlabel ('TPSA',fontsize=12,fontweight='bold')\n",
    "ax.set_ylabel ('Probability',fontsize=12,fontweight='bold')\n",
    "\n",
    "## Añade una linea en el promedio de los datos\n",
    "#ax.axvline(x=hmean,color='r',linewidth=1,linestyle='--',)\n",
    "\n",
    "ax.spines['right'].set_visible(False)\n",
    "ax.spines['top'].set_visible(False)\n",
    "\n",
    "plt.tight_layout()\n",
    "plt.savefig('DATA/Charts/TPSA.svg',dpi=600,format='svg',transparent=False)\n",
    "plt.show()"
   ]
  },
  {
   "cell_type": "code",
   "execution_count": null,
   "metadata": {},
   "outputs": [],
   "source": [
    "h=list(table['scorpion_score'].dropna()) ## Disperción en X\n",
    "h.sort()\n",
    "hmean = np.mean(h)\n",
    "hstd = np.std(h)\n",
    "pdf = stats.norm.pdf(h, hmean, hstd)\n",
    "\n",
    "plt.figure(figsize=(8,6))\n",
    "plt.tick_params ('both',width=2,labelsize=12)\n",
    "ax = plt.subplot(111)\n",
    "ax.plot(h,pdf,'k--',linewidth=2.0)\n",
    "ax.hist(h,density=True,histtype='step',color='gray',linewidth=1.5)\n",
    "ax.set_title ('Probability Distribution',fontsize=14,fontweight='bold')\n",
    "ax.set_xlabel ('Scorpion score',fontsize=12,fontweight='bold')\n",
    "ax.set_ylabel ('Probability',fontsize=12,fontweight='bold')\n",
    "\n",
    "## Añade una linea en el promedio de los datos\n",
    "ax.axvline(x=hmean,color='r',linewidth=1,linestyle='--',)\n",
    "\n",
    "ax.spines['right'].set_visible(False)\n",
    "ax.spines['top'].set_visible(False)\n",
    "\n",
    "plt.tight_layout()\n",
    "plt.savefig('DATA/Charts/Scorpion_score.svg',dpi=600,format='svg',transparent=False)\n",
    "plt.show()"
   ]
  },
  {
   "cell_type": "code",
   "execution_count": null,
   "metadata": {},
   "outputs": [],
   "source": [
    "plt.figure(figsize=(8,6))\n",
    "plt.tick_params ('both',width=2,labelsize=12)\n",
    "\n",
    "ax = plt.subplot(111)\n",
    "ax.scatter(table['NPR1_cov'].dropna(),table['NPR2_cov'].dropna(),color='C3',s=14)\n",
    "\n",
    "x1, y1 = [0.5, 0], [0.5, 1]\n",
    "x2, y2 = [0.5, 1], [0.5, 1]\n",
    "x3, y3 = [0,1],[1,1]\n",
    "plt.plot(x1, y1,x2,y2,x3,y3,c='gray',ls='--',lw=2)\n",
    "\n",
    "plt.xlabel ('NPR1',fontsize=20,fontweight='bold')\n",
    "plt.ylabel ('NPR2',fontsize=20,fontweight='bold')\n",
    "\n",
    "ax.spines['top'].set_visible(False)\n",
    "ax.spines['right'].set_visible(False)\n",
    "\n",
    "plt.text(0, 1.01,s='Rod',fontsize=14,horizontalalignment='center',verticalalignment='center',fontweight='bold')\n",
    "plt.text(1, 1.01,s='Sphere',fontsize=14,horizontalalignment='center',verticalalignment='center',fontweight='bold')\n",
    "plt.text(0.5, 0.49,s='Disc',fontsize=14,horizontalalignment='center',verticalalignment='center',fontweight='bold')\n",
    "\n",
    "plt.tick_params ('both',width=2,labelsize=16)\n",
    "plt.tight_layout()\n",
    "plt.savefig('DATA/Charts/NPR.svg',dpi=600,queality=95,format='svg')\n",
    "plt.show()"
   ]
  },
  {
   "cell_type": "code",
   "execution_count": null,
   "metadata": {},
   "outputs": [],
   "source": []
  },
  {
   "cell_type": "code",
   "execution_count": null,
   "metadata": {},
   "outputs": [],
   "source": []
  },
  {
   "cell_type": "markdown",
   "metadata": {},
   "source": [
    "## Spider plots"
   ]
  },
  {
   "cell_type": "code",
   "execution_count": null,
   "metadata": {},
   "outputs": [],
   "source": [
    "table.columns"
   ]
  },
  {
   "cell_type": "code",
   "execution_count": null,
   "metadata": {},
   "outputs": [],
   "source": [
    "table=table.drop(columns=['NumHeteroatoms_cov'])"
   ]
  },
  {
   "cell_type": "code",
   "execution_count": null,
   "metadata": {},
   "outputs": [],
   "source": [
    "table['MolWt_cov']=[i/500 for i in table['MolWt_cov']]\n",
    "table['LogP_cov']=[i/5 for i in table['LogP_cov']]\n",
    "table['NumHAcceptors_cov']=[i/10 for i in table['NumHAcceptors_cov']]\n",
    "table['NumHDonors_cov']=[i/5 for i in table['NumHDonors_cov']]\n",
    "table['NumRotableBonds_cov']=[i/10 for i in table['NumRotableBonds_cov']]\n",
    "table['TPSA_cov']=[i/140 for i in table['TPSA_cov']]"
   ]
  },
  {
   "cell_type": "code",
   "execution_count": null,
   "metadata": {},
   "outputs": [],
   "source": [
    "table.groupby('Covalent_reaction_type').groups.keys()"
   ]
  },
  {
   "cell_type": "code",
   "execution_count": null,
   "metadata": {},
   "outputs": [],
   "source": [
    "r=table.groupby('Covalent_reaction_type').get_group('1,2-Addition to sp2 Atom')"
   ]
  },
  {
   "cell_type": "code",
   "execution_count": null,
   "metadata": {},
   "outputs": [],
   "source": [
    "r.columns[-14:-8]"
   ]
  },
  {
   "cell_type": "code",
   "execution_count": null,
   "metadata": {},
   "outputs": [],
   "source": [
    "categories=list(table.columns[-14:-8])\n",
    "N = len(categories)"
   ]
  },
  {
   "cell_type": "code",
   "execution_count": null,
   "metadata": {},
   "outputs": [],
   "source": [
    "RoF=[1,1,1,1,1,1,1]"
   ]
  },
  {
   "cell_type": "code",
   "execution_count": null,
   "metadata": {},
   "outputs": [],
   "source": [
    "values=r[categories].values[0]\n",
    "values=np.append(values,values[:1])"
   ]
  },
  {
   "cell_type": "code",
   "execution_count": null,
   "metadata": {},
   "outputs": [],
   "source": [
    "angles = [n / float(N) * 2 * pi for n in range(N)]\n",
    "angles += angles[:1]"
   ]
  },
  {
   "cell_type": "code",
   "execution_count": null,
   "metadata": {},
   "outputs": [],
   "source": [
    "fig=plt.figure(figsize=(8,8))\n",
    "\n",
    "ax = fig.add_axes([1, 1, 1, 1],projection='polar')\n",
    "\n",
    "ax.set_title('Thioether formation',size='25',weight='bold')\n",
    "\n",
    "plt.xticks(angles, [i.split('_')[0] for i in categories],color='k', size=18,ha='center',va='top')\n",
    "\n",
    "plt.tick_params(axis='y',width=2,labelsize=16, grid_alpha=0.15)\n",
    "\n",
    "ax.set_rlabel_position(0)\n",
    "\n",
    "for i in range(len(r.index)):\n",
    "    values=r[categories].values[i]\n",
    "    values=np.append(values,values[:1])\n",
    "    ax.plot(angles, values, linewidth=1 ,color='k', linestyle='-',alpha=0.2)\n",
    "    ax.fill(angles, values, 'C2', alpha=0.025)\n",
    "\n",
    "ax.plot(angles, RoF, linewidth=3, linestyle='solid',color='red')\n",
    "#ax.fill(angles, RoF, 'red', alpha=0.2)\n",
    "plt.savefig('DATA/Charts/Radar_charts/thioether formation.svg',dpi=600,queality=95,format='svg')\n",
    "plt.plot()"
   ]
  },
  {
   "cell_type": "markdown",
   "metadata": {},
   "source": [
    "## PCA"
   ]
  },
  {
   "cell_type": "code",
   "execution_count": null,
   "metadata": {},
   "outputs": [],
   "source": [
    "from sklearn.decomposition import PCA\n",
    "from sklearn.preprocessing import StandardScaler\n",
    "\n",
    "import matplotlib.cm as cm\n",
    "from sklearn.metrics import silhouette_samples, silhouette_score\n",
    "from sklearn.cluster import KMeans"
   ]
  },
  {
   "cell_type": "code",
   "execution_count": null,
   "metadata": {},
   "outputs": [],
   "source": [
    "table.columns"
   ]
  },
  {
   "cell_type": "code",
   "execution_count": null,
   "metadata": {},
   "outputs": [],
   "source": [
    "descriptors=table.columns[22:39]"
   ]
  },
  {
   "cell_type": "code",
   "execution_count": null,
   "metadata": {},
   "outputs": [],
   "source": [
    "table_nona=table[descriptors].dropna()"
   ]
  },
  {
   "cell_type": "code",
   "execution_count": null,
   "metadata": {},
   "outputs": [],
   "source": [
    "for i in descriptors:\n",
    "    [float(i) for i in table_nona[i]]"
   ]
  },
  {
   "cell_type": "code",
   "execution_count": null,
   "metadata": {},
   "outputs": [],
   "source": [
    "table_nona=table_nona.apply(pd.to_numeric)"
   ]
  },
  {
   "cell_type": "code",
   "execution_count": null,
   "metadata": {},
   "outputs": [],
   "source": []
  }
 ],
 "metadata": {
  "kernelspec": {
   "display_name": "Chem_3",
   "language": "python",
   "name": "chem_3"
  },
  "language_info": {
   "codemirror_mode": {
    "name": "ipython",
    "version": 3
   },
   "file_extension": ".py",
   "mimetype": "text/x-python",
   "name": "python",
   "nbconvert_exporter": "python",
   "pygments_lexer": "ipython3",
   "version": "3.7.7"
  }
 },
 "nbformat": 4,
 "nbformat_minor": 4
}
