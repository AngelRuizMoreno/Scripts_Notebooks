{
 "cells": [
  {
   "cell_type": "code",
   "execution_count": 1,
   "metadata": {},
   "outputs": [],
   "source": [
    "%load_ext autoreload\n",
    "%autoreload 2"
   ]
  },
  {
   "cell_type": "code",
   "execution_count": 2,
   "metadata": {},
   "outputs": [
    {
     "name": "stderr",
     "output_type": "stream",
     "text": [
      "/home/angel/miniconda3/envs/Cheminformatics/lib/python3.6/site-packages/MDAnalysis/due.py:88: UserWarning: No module named 'mock'\n",
      "  warnings.warn(str(err))\n"
     ]
    }
   ],
   "source": [
    "import sys, os, shutil\n",
    "import numpy as np\n",
    "import matplotlib\n",
    "import matplotlib.pyplot as plt\n",
    "import matplotlib.pylab as pylab\n",
    "import pandas as pd\n",
    "import mdtraj as md\n",
    "import pytraj as pt\n",
    "import MDAnalysis as mda\n",
    "import MDAnalysis.analysis.rms as rms\n",
    "from MDAnalysis.analysis import align\n",
    "from MDAnalysis.analysis import hbonds\n",
    "import nglview as nv\n",
    "import seaborn as sns"
   ]
  },
  {
   "cell_type": "code",
   "execution_count": 3,
   "metadata": {},
   "outputs": [],
   "source": [
    "# Matplotlib options\n",
    "%matplotlib inline\n",
    "matplotlib.style.use('ggplot')\n",
    "pylab.rcParams['figure.figsize'] = 12, 8"
   ]
  },
  {
   "cell_type": "markdown",
   "metadata": {},
   "source": [
    "## Pictilisib-CD44 no WAT molecules"
   ]
  },
  {
   "cell_type": "code",
   "execution_count": 4,
   "metadata": {},
   "outputs": [],
   "source": [
    "#top='../centered_traj/CD44_PIC.pdb'\n",
    "#trajectory='../centered_traj/CD44_PIC_no_WAT.xtc'"
   ]
  },
  {
   "cell_type": "markdown",
   "metadata": {},
   "source": [
    "## Pictilisib-CD44 including WAT"
   ]
  },
  {
   "cell_type": "code",
   "execution_count": 5,
   "metadata": {},
   "outputs": [],
   "source": [
    "top='../../system_preparation/solv_ions.gro'\n",
    "trajectory='../centered_traj/traj_full_centered_fitted.xtc'"
   ]
  },
  {
   "cell_type": "markdown",
   "metadata": {},
   "source": [
    "### Creating Universe for MD analysis"
   ]
  },
  {
   "cell_type": "code",
   "execution_count": 6,
   "metadata": {},
   "outputs": [
    {
     "data": {
      "text/plain": [
       "<Universe with 22146 atoms>"
      ]
     },
     "execution_count": 6,
     "metadata": {},
     "output_type": "execute_result"
    }
   ],
   "source": [
    "u=mda.Universe (top,trajectory)\n",
    "u"
   ]
  },
  {
   "cell_type": "markdown",
   "metadata": {},
   "source": [
    "### Selection of ligand-receptor and protein systems to facilitate analysis"
   ]
  },
  {
   "cell_type": "code",
   "execution_count": 7,
   "metadata": {},
   "outputs": [
    {
     "name": "stdout",
     "output_type": "stream",
     "text": [
      "<AtomGroup [<Atom 1: N of type N of resname ALA, resid 1 and segid SYSTEM>, <Atom 2: H1 of type H of resname ALA, resid 1 and segid SYSTEM>, <Atom 3: H2 of type H of resname ALA, resid 1 and segid SYSTEM>, ..., <Atom 1536: H15 of type H of resname PIC, resid 151 and segid SYSTEM>, <Atom 1537: C14 of type C of resname PIC, resid 151 and segid SYSTEM>, <Atom 1538: H14 of type H of resname PIC, resid 151 and segid SYSTEM>]>\n"
     ]
    }
   ],
   "source": [
    "CD44_PIC=u.select_atoms('resid 0-151')\n",
    "print (CD44_PIC)"
   ]
  },
  {
   "cell_type": "code",
   "execution_count": 8,
   "metadata": {},
   "outputs": [
    {
     "name": "stdout",
     "output_type": "stream",
     "text": [
      "<AtomGroup [<Atom 1: N of type N of resname ALA, resid 1 and segid SYSTEM>, <Atom 2: H1 of type H of resname ALA, resid 1 and segid SYSTEM>, <Atom 3: H2 of type H of resname ALA, resid 1 and segid SYSTEM>, ..., <Atom 1494: C of type C of resname TYR, resid 150 and segid SYSTEM>, <Atom 1495: O1 of type O of resname TYR, resid 150 and segid SYSTEM>, <Atom 1496: O2 of type O of resname TYR, resid 150 and segid SYSTEM>]>\n"
     ]
    }
   ],
   "source": [
    "CD44=u.select_atoms('protein')\n",
    "print (CD44)"
   ]
  },
  {
   "cell_type": "code",
   "execution_count": 9,
   "metadata": {},
   "outputs": [
    {
     "name": "stdout",
     "output_type": "stream",
     "text": [
      "<AtomGroup [<Atom 1497: C20 of type C of resname PIC, resid 151 and segid SYSTEM>, <Atom 1498: C21 of type C of resname PIC, resid 151 and segid SYSTEM>, <Atom 1499: O3 of type O of resname PIC, resid 151 and segid SYSTEM>, ..., <Atom 1536: H15 of type H of resname PIC, resid 151 and segid SYSTEM>, <Atom 1537: C14 of type C of resname PIC, resid 151 and segid SYSTEM>, <Atom 1538: H14 of type H of resname PIC, resid 151 and segid SYSTEM>]>\n"
     ]
    }
   ],
   "source": [
    "PIC=u.select_atoms('resname PIC')\n",
    "print (PIC)"
   ]
  },
  {
   "cell_type": "markdown",
   "metadata": {},
   "source": [
    "### Save snapshots as models "
   ]
  },
  {
   "cell_type": "code",
   "execution_count": 51,
   "metadata": {},
   "outputs": [
    {
     "name": "stderr",
     "output_type": "stream",
     "text": [
      "/home/angel/miniconda3/envs/Cheminformatics/lib/python3.6/site-packages/MDAnalysis/coordinates/PDB.py:892: UserWarning: Found no information for attr: 'altLocs' Using default value of ' '\n",
      "  \"\".format(attrname, default))\n",
      "/home/angel/miniconda3/envs/Cheminformatics/lib/python3.6/site-packages/MDAnalysis/coordinates/PDB.py:892: UserWarning: Found no information for attr: 'icodes' Using default value of ' '\n",
      "  \"\".format(attrname, default))\n",
      "/home/angel/miniconda3/envs/Cheminformatics/lib/python3.6/site-packages/MDAnalysis/coordinates/PDB.py:892: UserWarning: Found no information for attr: 'occupancies' Using default value of '1.0'\n",
      "  \"\".format(attrname, default))\n",
      "/home/angel/miniconda3/envs/Cheminformatics/lib/python3.6/site-packages/MDAnalysis/coordinates/PDB.py:892: UserWarning: Found no information for attr: 'tempfactors' Using default value of '0.0'\n",
      "  \"\".format(attrname, default))\n"
     ]
    },
    {
     "ename": "KeyboardInterrupt",
     "evalue": "",
     "output_type": "error",
     "traceback": [
      "\u001b[0;31m---------------------------------------------------------------------------\u001b[0m",
      "\u001b[0;31mKeyboardInterrupt\u001b[0m                         Traceback (most recent call last)",
      "\u001b[0;32m<ipython-input-51-6e489887c830>\u001b[0m in \u001b[0;36m<module>\u001b[0;34m()\u001b[0m\n\u001b[1;32m      1\u001b[0m \u001b[0;32mwith\u001b[0m \u001b[0mmda\u001b[0m\u001b[0;34m.\u001b[0m\u001b[0mWriter\u001b[0m \u001b[0;34m(\u001b[0m\u001b[0;34m'../analysis/models/CD44_PIC.pdb'\u001b[0m\u001b[0;34m,\u001b[0m \u001b[0mn_atoms\u001b[0m\u001b[0;34m=\u001b[0m\u001b[0mSystem\u001b[0m\u001b[0;34m)\u001b[0m \u001b[0;32mas\u001b[0m \u001b[0mW\u001b[0m\u001b[0;34m:\u001b[0m\u001b[0;34m\u001b[0m\u001b[0m\n\u001b[1;32m      2\u001b[0m     \u001b[0;32mfor\u001b[0m \u001b[0mi\u001b[0m \u001b[0;32min\u001b[0m \u001b[0mu\u001b[0m\u001b[0;34m.\u001b[0m\u001b[0mtrajectory\u001b[0m\u001b[0;34m[\u001b[0m\u001b[0;36m0\u001b[0m\u001b[0;34m]\u001b[0m\u001b[0;34m:\u001b[0m\u001b[0;34m\u001b[0m\u001b[0m\n\u001b[0;32m----> 3\u001b[0;31m         \u001b[0mW\u001b[0m\u001b[0;34m.\u001b[0m\u001b[0mwrite\u001b[0m \u001b[0;34m(\u001b[0m\u001b[0mSystem\u001b[0m\u001b[0;34m)\u001b[0m\u001b[0;34m\u001b[0m\u001b[0m\n\u001b[0m",
      "\u001b[0;32m~/miniconda3/envs/Cheminformatics/lib/python3.6/site-packages/MDAnalysis/coordinates/PDB.py\u001b[0m in \u001b[0;36mwrite\u001b[0;34m(self, obj)\u001b[0m\n\u001b[1;32m    741\u001b[0m         \u001b[0;31m# write_all_timesteps() to dump everything in one go, or do the\u001b[0m\u001b[0;34m\u001b[0m\u001b[0;34m\u001b[0m\u001b[0m\n\u001b[1;32m    742\u001b[0m         \u001b[0;31m# traditional loop over frames\u001b[0m\u001b[0;34m\u001b[0m\u001b[0;34m\u001b[0m\u001b[0m\n\u001b[0;32m--> 743\u001b[0;31m         \u001b[0mself\u001b[0m\u001b[0;34m.\u001b[0m\u001b[0mwrite_next_timestep\u001b[0m\u001b[0;34m(\u001b[0m\u001b[0mself\u001b[0m\u001b[0;34m.\u001b[0m\u001b[0mts\u001b[0m\u001b[0;34m,\u001b[0m \u001b[0mmultiframe\u001b[0m\u001b[0;34m=\u001b[0m\u001b[0mself\u001b[0m\u001b[0;34m.\u001b[0m\u001b[0m_multiframe\u001b[0m\u001b[0;34m)\u001b[0m\u001b[0;34m\u001b[0m\u001b[0m\n\u001b[0m\u001b[1;32m    744\u001b[0m         \u001b[0mself\u001b[0m\u001b[0;34m.\u001b[0m\u001b[0m_write_pdb_bonds\u001b[0m\u001b[0;34m(\u001b[0m\u001b[0;34m)\u001b[0m\u001b[0;34m\u001b[0m\u001b[0m\n\u001b[1;32m    745\u001b[0m         \u001b[0;31m# END record is written when file is being close()d\u001b[0m\u001b[0;34m\u001b[0m\u001b[0;34m\u001b[0m\u001b[0m\n",
      "\u001b[0;32m~/miniconda3/envs/Cheminformatics/lib/python3.6/site-packages/MDAnalysis/coordinates/PDB.py\u001b[0m in \u001b[0;36mwrite_next_timestep\u001b[0;34m(self, ts, **kwargs)\u001b[0m\n\u001b[1;32m    816\u001b[0m                                   \"trajectory file\")\n\u001b[1;32m    817\u001b[0m         \u001b[0mself\u001b[0m\u001b[0;34m.\u001b[0m\u001b[0m_check_pdb_coordinates\u001b[0m\u001b[0;34m(\u001b[0m\u001b[0;34m)\u001b[0m\u001b[0;34m\u001b[0m\u001b[0m\n\u001b[0;32m--> 818\u001b[0;31m         \u001b[0mself\u001b[0m\u001b[0;34m.\u001b[0m\u001b[0m_write_timestep\u001b[0m\u001b[0;34m(\u001b[0m\u001b[0mts\u001b[0m\u001b[0;34m,\u001b[0m \u001b[0;34m**\u001b[0m\u001b[0mkwargs\u001b[0m\u001b[0;34m)\u001b[0m\u001b[0;34m\u001b[0m\u001b[0m\n\u001b[0m\u001b[1;32m    819\u001b[0m \u001b[0;34m\u001b[0m\u001b[0m\n\u001b[1;32m    820\u001b[0m     \u001b[0;32mdef\u001b[0m \u001b[0m_deduce_PDB_atom_name\u001b[0m\u001b[0;34m(\u001b[0m\u001b[0mself\u001b[0m\u001b[0;34m,\u001b[0m \u001b[0matomname\u001b[0m\u001b[0;34m,\u001b[0m \u001b[0mresname\u001b[0m\u001b[0;34m)\u001b[0m\u001b[0;34m:\u001b[0m\u001b[0;34m\u001b[0m\u001b[0m\n",
      "\u001b[0;32m~/miniconda3/envs/Cheminformatics/lib/python3.6/site-packages/MDAnalysis/coordinates/PDB.py\u001b[0m in \u001b[0;36m_write_timestep\u001b[0;34m(self, ts, multiframe)\u001b[0m\n\u001b[1;32m    913\u001b[0m             \u001b[0mvals\u001b[0m\u001b[0;34m[\u001b[0m\u001b[0;34m'occupancy'\u001b[0m\u001b[0;34m]\u001b[0m \u001b[0;34m=\u001b[0m \u001b[0moccupancies\u001b[0m\u001b[0;34m[\u001b[0m\u001b[0mi\u001b[0m\u001b[0;34m]\u001b[0m\u001b[0;34m\u001b[0m\u001b[0m\n\u001b[1;32m    914\u001b[0m             \u001b[0mvals\u001b[0m\u001b[0;34m[\u001b[0m\u001b[0;34m'tempFactor'\u001b[0m\u001b[0;34m]\u001b[0m \u001b[0;34m=\u001b[0m \u001b[0mtempfactors\u001b[0m\u001b[0;34m[\u001b[0m\u001b[0mi\u001b[0m\u001b[0;34m]\u001b[0m\u001b[0;34m\u001b[0m\u001b[0m\n\u001b[0;32m--> 915\u001b[0;31m             \u001b[0mvals\u001b[0m\u001b[0;34m[\u001b[0m\u001b[0;34m'segID'\u001b[0m\u001b[0;34m]\u001b[0m \u001b[0;34m=\u001b[0m \u001b[0msegids\u001b[0m\u001b[0;34m[\u001b[0m\u001b[0mi\u001b[0m\u001b[0;34m]\u001b[0m\u001b[0;34m[\u001b[0m\u001b[0;34m:\u001b[0m\u001b[0;36m4\u001b[0m\u001b[0;34m]\u001b[0m\u001b[0;34m\u001b[0m\u001b[0m\n\u001b[0m\u001b[1;32m    916\u001b[0m             \u001b[0mvals\u001b[0m\u001b[0;34m[\u001b[0m\u001b[0;34m'element'\u001b[0m\u001b[0;34m]\u001b[0m \u001b[0;34m=\u001b[0m \u001b[0mguess_atom_element\u001b[0m\u001b[0;34m(\u001b[0m\u001b[0matomnames\u001b[0m\u001b[0;34m[\u001b[0m\u001b[0mi\u001b[0m\u001b[0;34m]\u001b[0m\u001b[0;34m.\u001b[0m\u001b[0mstrip\u001b[0m\u001b[0;34m(\u001b[0m\u001b[0;34m)\u001b[0m\u001b[0;34m)\u001b[0m\u001b[0;34m[\u001b[0m\u001b[0;34m:\u001b[0m\u001b[0;36m2\u001b[0m\u001b[0;34m]\u001b[0m\u001b[0;34m\u001b[0m\u001b[0m\n\u001b[1;32m    917\u001b[0m \u001b[0;34m\u001b[0m\u001b[0m\n",
      "\u001b[0;31mKeyboardInterrupt\u001b[0m: "
     ]
    }
   ],
   "source": [
    "with mda.Writer ('../analysis/models/CD44_PIC.pdb', n_atoms=System) as W:\n",
    "    for i in u.trajectory[0]:\n",
    "        W.write (System)"
   ]
  },
  {
   "cell_type": "markdown",
   "metadata": {},
   "source": [
    "### Visualizating Pic-CD44 system (no wat molecucules)"
   ]
  },
  {
   "cell_type": "code",
   "execution_count": 10,
   "metadata": {},
   "outputs": [
    {
     "name": "stderr",
     "output_type": "stream",
     "text": [
      "/home/angel/miniconda3/envs/Cheminformatics/lib/python3.6/site-packages/MDAnalysis/coordinates/PDB.py:892: UserWarning: Found no information for attr: 'altLocs' Using default value of ' '\n",
      "  \"\".format(attrname, default))\n",
      "/home/angel/miniconda3/envs/Cheminformatics/lib/python3.6/site-packages/MDAnalysis/coordinates/PDB.py:892: UserWarning: Found no information for attr: 'icodes' Using default value of ' '\n",
      "  \"\".format(attrname, default))\n",
      "/home/angel/miniconda3/envs/Cheminformatics/lib/python3.6/site-packages/MDAnalysis/coordinates/PDB.py:892: UserWarning: Found no information for attr: 'occupancies' Using default value of '1.0'\n",
      "  \"\".format(attrname, default))\n",
      "/home/angel/miniconda3/envs/Cheminformatics/lib/python3.6/site-packages/MDAnalysis/coordinates/PDB.py:892: UserWarning: Found no information for attr: 'tempfactors' Using default value of '0.0'\n",
      "  \"\".format(attrname, default))\n"
     ]
    },
    {
     "data": {
      "application/vnd.jupyter.widget-view+json": {
       "model_id": "dcab3106f94f40729779eaaa8b51bfd3",
       "version_major": 2,
       "version_minor": 0
      },
      "text/plain": [
       "NGLWidget(count=218438)"
      ]
     },
     "metadata": {},
     "output_type": "display_data"
    }
   ],
   "source": [
    "view= nv.show_mdanalysis (CD44_PIC)\n",
    "view.clear_representations ()\n",
    "view.add_ball_and_stick (selection='protein', aspectRatio=10, color='blue')\n",
    "view.add_ball_and_stick(selection='PIC', aspectRatio=10)\n",
    "view"
   ]
  },
  {
   "cell_type": "markdown",
   "metadata": {},
   "source": [
    "## RMSD of CD44 alone (WAT and PIC no needed for this analysis)"
   ]
  },
  {
   "cell_type": "code",
   "execution_count": 11,
   "metadata": {},
   "outputs": [
    {
     "data": {
      "text/plain": [
       "<MDAnalysis.analysis.rms.RMSD at 0x7f94b7684400>"
      ]
     },
     "execution_count": 11,
     "metadata": {},
     "output_type": "execute_result"
    }
   ],
   "source": [
    "R=rms.RMSD (u,reference=u,ref_frame=0, select='resid 1-150')\n",
    "R.run()"
   ]
  },
  {
   "cell_type": "code",
   "execution_count": 12,
   "metadata": {},
   "outputs": [
    {
     "data": {
      "text/plain": [
       "Text(0,0.5,'RMSD (Angstrom)')"
      ]
     },
     "execution_count": 12,
     "metadata": {},
     "output_type": "execute_result"
    },
    {
     "data": {
      "image/png": "[encoded data removed]",
      "text/plain": [
       "<Figure size 864x576 with 1 Axes>"
      ]
     },
     "metadata": {},
     "output_type": "display_data"
    }
   ],
   "source": [
    "rmsd=R.rmsd.T\n",
    "time = rmsd[1]\n",
    "plt.plot (time,rmsd[2])\n",
    "plt.xlabel ('Frame')\n",
    "plt.ylabel ('RMSD (Angstrom)')"
   ]
  },
  {
   "cell_type": "code",
   "execution_count": 13,
   "metadata": {},
   "outputs": [],
   "source": [
    "save=pd.DataFrame(time,rmsd[2])\n",
    "save.to_csv(\"/home/angel/Documents/angel/experiments/CD44_Pictilisib_gromacs/results/analysis/protein_rmsd.csv\")"
   ]
  },
  {
   "cell_type": "markdown",
   "metadata": {},
   "source": [
    "## RMSF of alphacarbons of CD44"
   ]
  },
  {
   "cell_type": "code",
   "execution_count": 14,
   "metadata": {},
   "outputs": [
    {
     "name": "stderr",
     "output_type": "stream",
     "text": [
      "Step 218438/218438 [100.0%]\n"
     ]
    }
   ],
   "source": [
    "calphas = CD44.select_atoms(\"name CA\")\n",
    "rmsfer = rms.RMSF(calphas, verbose=True).run()"
   ]
  },
  {
   "cell_type": "code",
   "execution_count": 16,
   "metadata": {},
   "outputs": [
    {
     "data": {
      "image/png": "[encoded data removed]",
      "text/plain": [
       "<Figure size 864x576 with 1 Axes>"
      ]
     },
     "metadata": {},
     "output_type": "display_data"
    }
   ],
   "source": [
    "plt.plot(calphas.resnums, rmsfer.rmsf)\n",
    "plt.xlabel ('aC')\n",
    "plt.ylabel ('RMSF (Angstrom)')\n",
    "plt.show ()"
   ]
  },
  {
   "cell_type": "code",
   "execution_count": 17,
   "metadata": {},
   "outputs": [],
   "source": [
    "save=pd.DataFrame(rmsfer.rmsf)\n",
    "save.to_csv('../analysis/protein_rmsf.csv')"
   ]
  },
  {
   "cell_type": "markdown",
   "metadata": {},
   "source": [
    "## RMSD of Pictilisib (no wat and no CD44)"
   ]
  },
  {
   "cell_type": "code",
   "execution_count": 10,
   "metadata": {},
   "outputs": [
    {
     "data": {
      "text/plain": [
       "<MDAnalysis.analysis.rms.RMSD at 0x7fbde454c908>"
      ]
     },
     "execution_count": 10,
     "metadata": {},
     "output_type": "execute_result"
    }
   ],
   "source": [
    "R=rms.RMSD (u,reference=u,ref_frame=0, select='resname PIC')\n",
    "R.run()"
   ]
  },
  {
   "cell_type": "code",
   "execution_count": 11,
   "metadata": {},
   "outputs": [
    {
     "data": {
      "text/plain": [
       "Text(0,0.5,'RMSD (Angstrom)')"
      ]
     },
     "execution_count": 11,
     "metadata": {},
     "output_type": "execute_result"
    },
    {
     "data": {
      "image/png": "[encoded data removed]",
      "text/plain": [
       "<Figure size 864x576 with 1 Axes>"
      ]
     },
     "metadata": {},
     "output_type": "display_data"
    }
   ],
   "source": [
    "rmsd=R.rmsd.T\n",
    "time = rmsd[1]\n",
    "plt.plot (time,rmsd[2])\n",
    "plt.xlabel ('Frame')\n",
    "plt.ylabel ('RMSD (Angstrom)')"
   ]
  },
  {
   "cell_type": "code",
   "execution_count": 20,
   "metadata": {},
   "outputs": [],
   "source": [
    "save=pd.DataFrame(time,rmsd[2])\n",
    "save.to_csv(\"../analysis/PIC_rmsd.csv\")"
   ]
  },
  {
   "cell_type": "markdown",
   "metadata": {},
   "source": [
    "## RMSF of Pictilisib (Carbons and hetatoms)"
   ]
  },
  {
   "cell_type": "code",
   "execution_count": 21,
   "metadata": {},
   "outputs": [
    {
     "name": "stderr",
     "output_type": "stream",
     "text": [
      "Step 218438/218438 [100.0%]\n"
     ]
    }
   ],
   "source": [
    "PIC_heavy=PIC.select_atoms ('not name H*')\n",
    "rmsfer = rms.RMSF(PIC_heavy, verbose=True).run()"
   ]
  },
  {
   "cell_type": "code",
   "execution_count": 22,
   "metadata": {
    "scrolled": true
   },
   "outputs": [
    {
     "data": {
      "text/plain": [
       "Text(0,0.5,'RMSF (Angstrom)')"
      ]
     },
     "execution_count": 22,
     "metadata": {},
     "output_type": "execute_result"
    },
    {
     "data": {
      "image/png": "[encoded data removed]",
      "text/plain": [
       "<Figure size 864x576 with 1 Axes>"
      ]
     },
     "metadata": {},
     "output_type": "display_data"
    }
   ],
   "source": [
    "plt.plot(PIC_heavy.atoms.names, rmsfer.rmsf)\n",
    "plt.xlabel ('atom')\n",
    "plt.ylabel ('RMSF (Angstrom)')"
   ]
  },
  {
   "cell_type": "code",
   "execution_count": 36,
   "metadata": {},
   "outputs": [],
   "source": [
    "save=pd.DataFrame(rmsfer.rmsf)\n",
    "save.to_csv(\"../analysis/PIC_rmsf.csv\")"
   ]
  },
  {
   "cell_type": "markdown",
   "metadata": {},
   "source": [
    "## Hbonds analysis"
   ]
  },
  {
   "cell_type": "code",
   "execution_count": 25,
   "metadata": {},
   "outputs": [
    {
     "name": "stdout",
     "output_type": "stream",
     "text": [
      "<AtomGroup [<Atom 1: N of type N of resname ALA, resid 1 and segid SYSTEM>, <Atom 2: H1 of type H of resname ALA, resid 1 and segid SYSTEM>, <Atom 3: H2 of type H of resname ALA, resid 1 and segid SYSTEM>, ..., <Atom 22144: NA of type NA of resname NA, resid 7021 and segid SYSTEM>, <Atom 22145: NA of type NA of resname NA, resid 7022 and segid SYSTEM>, <Atom 22146: NA of type NA of resname NA, resid 7023 and segid SYSTEM>]>\n"
     ]
    }
   ],
   "source": [
    "System=u.select_atoms ('all')\n",
    "print (System)"
   ]
  },
  {
   "cell_type": "code",
   "execution_count": 25,
   "metadata": {},
   "outputs": [
    {
     "name": "stderr",
     "output_type": "stream",
     "text": [
      "/home/angel/miniconda3/envs/Cheminformatics/lib/python3.6/site-packages/MDAnalysis/coordinates/PDB.py:892: UserWarning: Found no information for attr: 'altLocs' Using default value of ' '\n",
      "  \"\".format(attrname, default))\n",
      "/home/angel/miniconda3/envs/Cheminformatics/lib/python3.6/site-packages/MDAnalysis/coordinates/PDB.py:892: UserWarning: Found no information for attr: 'icodes' Using default value of ' '\n",
      "  \"\".format(attrname, default))\n",
      "/home/angel/miniconda3/envs/Cheminformatics/lib/python3.6/site-packages/MDAnalysis/coordinates/PDB.py:892: UserWarning: Found no information for attr: 'occupancies' Using default value of '1.0'\n",
      "  \"\".format(attrname, default))\n",
      "/home/angel/miniconda3/envs/Cheminformatics/lib/python3.6/site-packages/MDAnalysis/coordinates/PDB.py:892: UserWarning: Found no information for attr: 'tempfactors' Using default value of '0.0'\n",
      "  \"\".format(attrname, default))\n"
     ]
    },
    {
     "data": {
      "application/vnd.jupyter.widget-view+json": {
       "model_id": "75b59e73b84f4237be11e7776663fe3e",
       "version_major": 2,
       "version_minor": 0
      },
      "text/plain": [
       "NGLWidget(count=218438)"
      ]
     },
     "metadata": {},
     "output_type": "display_data"
    }
   ],
   "source": [
    "view= nv.show_mdanalysis (System)\n",
    "view.clear_representations ()\n",
    "view.add_ribbon (selection='protein')\n",
    "view.add_ball_and_stick(selection='PIC', aspectRatio=10)\n",
    "view.add_line (selection='water')\n",
    "view"
   ]
  },
  {
   "cell_type": "code",
   "execution_count": 26,
   "metadata": {},
   "outputs": [
    {
     "name": "stdout",
     "output_type": "stream",
     "text": [
      "<AtomGroup [<Atom 1497: C20 of type C of resname PIC, resid 151 and segid SYSTEM>, <Atom 1498: C21 of type C of resname PIC, resid 151 and segid SYSTEM>, <Atom 1499: O3 of type O of resname PIC, resid 151 and segid SYSTEM>, ..., <Atom 1536: H15 of type H of resname PIC, resid 151 and segid SYSTEM>, <Atom 1537: C14 of type C of resname PIC, resid 151 and segid SYSTEM>, <Atom 1538: H14 of type H of resname PIC, resid 151 and segid SYSTEM>]>\n"
     ]
    }
   ],
   "source": [
    "PIC=u.select_atoms('resname PIC')\n",
    "print (PIC)"
   ]
  },
  {
   "cell_type": "code",
   "execution_count": 27,
   "metadata": {},
   "outputs": [
    {
     "name": "stdout",
     "output_type": "stream",
     "text": [
      "<Atom 1497: C20 of type C of resname PIC, resid 151 and segid SYSTEM>\n",
      "<Atom 1498: C21 of type C of resname PIC, resid 151 and segid SYSTEM>\n",
      "<Atom 1499: O of type O of resname PIC, resid 151 and segid SYSTEM>\n",
      "<Atom 1500: C22 of type C of resname PIC, resid 151 and segid SYSTEM>\n",
      "<Atom 1501: C23 of type C of resname PIC, resid 151 and segid SYSTEM>\n",
      "<Atom 1502: N of type N of resname PIC, resid 151 and segid SYSTEM>\n",
      "<Atom 1503: C11 of type C of resname PIC, resid 151 and segid SYSTEM>\n",
      "<Atom 1504: N of type N of resname PIC, resid 151 and segid SYSTEM>\n",
      "<Atom 1505: C10 of type C of resname PIC, resid 151 and segid SYSTEM>\n",
      "<Atom 1506: S of type S of resname PIC, resid 151 and segid SYSTEM>\n",
      "<Atom 1507: C7 of type C of resname PIC, resid 151 and segid SYSTEM>\n",
      "<Atom 1508: C6 of type C of resname PIC, resid 151 and segid SYSTEM>\n",
      "<Atom 1509: N of type N of resname PIC, resid 151 and segid SYSTEM>\n",
      "<Atom 1510: H24 of type H of resname PIC, resid 151 and segid SYSTEM>\n",
      "<Atom 1511: C4 of type C of resname PIC, resid 151 and segid SYSTEM>\n",
      "<Atom 1512: C5 of type C of resname PIC, resid 151 and segid SYSTEM>\n",
      "<Atom 1513: C3 of type C of resname PIC, resid 151 and segid SYSTEM>\n",
      "<Atom 1514: C2 of type C of resname PIC, resid 151 and segid SYSTEM>\n",
      "<Atom 1515: N of type N of resname PIC, resid 151 and segid SYSTEM>\n",
      "<Atom 1516: S of type S of resname PIC, resid 151 and segid SYSTEM>\n",
      "<Atom 1517: O of type O of resname PIC, resid 151 and segid SYSTEM>\n",
      "<Atom 1518: O of type O of resname PIC, resid 151 and segid SYSTEM>\n",
      "<Atom 1519: C1 of type C of resname PIC, resid 151 and segid SYSTEM>\n",
      "<Atom 1520: C8 of type C of resname PIC, resid 151 and segid SYSTEM>\n",
      "<Atom 1521: H8 of type H of resname PIC, resid 151 and segid SYSTEM>\n",
      "<Atom 1522: C9 of type C of resname PIC, resid 151 and segid SYSTEM>\n",
      "<Atom 1523: N of type N of resname PIC, resid 151 and segid SYSTEM>\n",
      "<Atom 1524: C12 of type C of resname PIC, resid 151 and segid SYSTEM>\n",
      "<Atom 1525: C13 of type C of resname PIC, resid 151 and segid SYSTEM>\n",
      "<Atom 1526: C18 of type C of resname PIC, resid 151 and segid SYSTEM>\n",
      "<Atom 1527: C19 of type C of resname PIC, resid 151 and segid SYSTEM>\n",
      "<Atom 1528: H19 of type H of resname PIC, resid 151 and segid SYSTEM>\n",
      "<Atom 1529: N of type N of resname PIC, resid 151 and segid SYSTEM>\n",
      "<Atom 1530: H53 of type H of resname PIC, resid 151 and segid SYSTEM>\n",
      "<Atom 1531: N of type N of resname PIC, resid 151 and segid SYSTEM>\n",
      "<Atom 1532: C17 of type C of resname PIC, resid 151 and segid SYSTEM>\n",
      "<Atom 1533: C16 of type C of resname PIC, resid 151 and segid SYSTEM>\n",
      "<Atom 1534: H16 of type H of resname PIC, resid 151 and segid SYSTEM>\n",
      "<Atom 1535: C15 of type C of resname PIC, resid 151 and segid SYSTEM>\n",
      "<Atom 1536: H15 of type H of resname PIC, resid 151 and segid SYSTEM>\n",
      "<Atom 1537: C14 of type C of resname PIC, resid 151 and segid SYSTEM>\n",
      "<Atom 1538: H14 of type H of resname PIC, resid 151 and segid SYSTEM>\n"
     ]
    }
   ],
   "source": [
    "for atom in PIC:        #Changing the names for PIC N,O and S atoms for Hbond analysis.\n",
    "    if atom.type is 'N':\n",
    "        atom.name='N'\n",
    "    if atom.type is 'O':\n",
    "        atom.name='O'\n",
    "    if atom.type is 'S':\n",
    "        atom.name='S'\n",
    "    print (atom)"
   ]
  },
  {
   "cell_type": "code",
   "execution_count": 28,
   "metadata": {
    "scrolled": true
   },
   "outputs": [],
   "source": [
    "h_bonds=hbonds.HydrogenBondAnalysis (u,'resid 151', 'resid 1-150',forcefield='GLYCAM06',distance_type='hydrogen',distance=3.0,start=100001,pbc=True,filter_first=True)"
   ]
  },
  {
   "cell_type": "code",
   "execution_count": 29,
   "metadata": {},
   "outputs": [
    {
     "name": "stderr",
     "output_type": "stream",
     "text": [
      "HBonds frame 218437: 118437/118437 [100.0%]\n"
     ]
    }
   ],
   "source": [
    "h_bonds.run ()"
   ]
  },
  {
   "cell_type": "code",
   "execution_count": 30,
   "metadata": {},
   "outputs": [],
   "source": [
    "h_bonds.generate_table()\n",
    "hbonds_table=h_bonds.table\n",
    "hbonds_timeseries=h_bonds.timeseries\n",
    "num_hbonds_per_frame=[len(ii) for ii in hbonds_timeseries]"
   ]
  },
  {
   "cell_type": "code",
   "execution_count": 31,
   "metadata": {},
   "outputs": [
    {
     "data": {
      "image/png": "[encoded data removed]",
      "text/plain": [
       "<Figure size 864x576 with 1 Axes>"
      ]
     },
     "metadata": {},
     "output_type": "display_data"
    }
   ],
   "source": [
    "plt.plot(num_hbonds_per_frame)\n",
    "plt.xlabel(\"saved frame\")\n",
    "plt.ylabel(\"#hbonds\")\n",
    "plt.title(\"Number of hbonds in time\")\n",
    "plt.show()"
   ]
  },
  {
   "cell_type": "code",
   "execution_count": 32,
   "metadata": {},
   "outputs": [],
   "source": [
    "save=pd.DataFrame(num_hbonds_per_frame)\n",
    "save.to_csv ('../analysis/hbonds_PIC_protein.csv')"
   ]
  },
  {
   "cell_type": "code",
   "execution_count": 33,
   "metadata": {},
   "outputs": [
    {
     "data": {
      "text/html": [
       "<div>\n",
       "<style scoped>\n",
       "    .dataframe tbody tr th:only-of-type {\n",
       "        vertical-align: middle;\n",
       "    }\n",
       "\n",
       "    .dataframe tbody tr th {\n",
       "        vertical-align: top;\n",
       "    }\n",
       "\n",
       "    .dataframe thead th {\n",
       "        text-align: right;\n",
       "    }\n",
       "</style>\n",
       "<table border=\"1\" class=\"dataframe\">\n",
       "  <thead>\n",
       "    <tr style=\"text-align: right;\">\n",
       "      <th></th>\n",
       "      <th>time</th>\n",
       "      <th>donor_index</th>\n",
       "      <th>acceptor_index</th>\n",
       "      <th>donor_resnm</th>\n",
       "      <th>donor_resid</th>\n",
       "      <th>donor_atom</th>\n",
       "      <th>acceptor_resnm</th>\n",
       "      <th>acceptor_resid</th>\n",
       "      <th>acceptor_atom</th>\n",
       "      <th>distance</th>\n",
       "      <th>angle</th>\n",
       "    </tr>\n",
       "  </thead>\n",
       "  <tbody>\n",
       "    <tr>\n",
       "      <th>0</th>\n",
       "      <td>100001.0</td>\n",
       "      <td>548</td>\n",
       "      <td>1522</td>\n",
       "      <td>GLU</td>\n",
       "      <td>56</td>\n",
       "      <td>H</td>\n",
       "      <td>PIC</td>\n",
       "      <td>151</td>\n",
       "      <td>N</td>\n",
       "      <td>2.430496</td>\n",
       "      <td>152.455264</td>\n",
       "    </tr>\n",
       "    <tr>\n",
       "      <th>1</th>\n",
       "      <td>100002.0</td>\n",
       "      <td>548</td>\n",
       "      <td>1522</td>\n",
       "      <td>GLU</td>\n",
       "      <td>56</td>\n",
       "      <td>H</td>\n",
       "      <td>PIC</td>\n",
       "      <td>151</td>\n",
       "      <td>N</td>\n",
       "      <td>2.348061</td>\n",
       "      <td>165.110111</td>\n",
       "    </tr>\n",
       "    <tr>\n",
       "      <th>2</th>\n",
       "      <td>100003.0</td>\n",
       "      <td>548</td>\n",
       "      <td>1522</td>\n",
       "      <td>GLU</td>\n",
       "      <td>56</td>\n",
       "      <td>H</td>\n",
       "      <td>PIC</td>\n",
       "      <td>151</td>\n",
       "      <td>N</td>\n",
       "      <td>2.931657</td>\n",
       "      <td>136.353446</td>\n",
       "    </tr>\n",
       "    <tr>\n",
       "      <th>3</th>\n",
       "      <td>100004.0</td>\n",
       "      <td>548</td>\n",
       "      <td>1522</td>\n",
       "      <td>GLU</td>\n",
       "      <td>56</td>\n",
       "      <td>H</td>\n",
       "      <td>PIC</td>\n",
       "      <td>151</td>\n",
       "      <td>N</td>\n",
       "      <td>2.766770</td>\n",
       "      <td>163.880662</td>\n",
       "    </tr>\n",
       "    <tr>\n",
       "      <th>4</th>\n",
       "      <td>100005.0</td>\n",
       "      <td>548</td>\n",
       "      <td>1522</td>\n",
       "      <td>GLU</td>\n",
       "      <td>56</td>\n",
       "      <td>H</td>\n",
       "      <td>PIC</td>\n",
       "      <td>151</td>\n",
       "      <td>N</td>\n",
       "      <td>2.780453</td>\n",
       "      <td>159.426142</td>\n",
       "    </tr>\n",
       "    <tr>\n",
       "      <th>5</th>\n",
       "      <td>100006.0</td>\n",
       "      <td>548</td>\n",
       "      <td>1522</td>\n",
       "      <td>GLU</td>\n",
       "      <td>56</td>\n",
       "      <td>H</td>\n",
       "      <td>PIC</td>\n",
       "      <td>151</td>\n",
       "      <td>N</td>\n",
       "      <td>2.809273</td>\n",
       "      <td>132.464225</td>\n",
       "    </tr>\n",
       "    <tr>\n",
       "      <th>6</th>\n",
       "      <td>100007.0</td>\n",
       "      <td>548</td>\n",
       "      <td>1522</td>\n",
       "      <td>GLU</td>\n",
       "      <td>56</td>\n",
       "      <td>H</td>\n",
       "      <td>PIC</td>\n",
       "      <td>151</td>\n",
       "      <td>N</td>\n",
       "      <td>2.339527</td>\n",
       "      <td>144.392624</td>\n",
       "    </tr>\n",
       "    <tr>\n",
       "      <th>7</th>\n",
       "      <td>100008.0</td>\n",
       "      <td>548</td>\n",
       "      <td>1522</td>\n",
       "      <td>GLU</td>\n",
       "      <td>56</td>\n",
       "      <td>H</td>\n",
       "      <td>PIC</td>\n",
       "      <td>151</td>\n",
       "      <td>N</td>\n",
       "      <td>2.699278</td>\n",
       "      <td>163.545511</td>\n",
       "    </tr>\n",
       "    <tr>\n",
       "      <th>8</th>\n",
       "      <td>100010.0</td>\n",
       "      <td>548</td>\n",
       "      <td>1522</td>\n",
       "      <td>GLU</td>\n",
       "      <td>56</td>\n",
       "      <td>H</td>\n",
       "      <td>PIC</td>\n",
       "      <td>151</td>\n",
       "      <td>N</td>\n",
       "      <td>2.481610</td>\n",
       "      <td>149.728585</td>\n",
       "    </tr>\n",
       "    <tr>\n",
       "      <th>9</th>\n",
       "      <td>100011.0</td>\n",
       "      <td>548</td>\n",
       "      <td>1522</td>\n",
       "      <td>GLU</td>\n",
       "      <td>56</td>\n",
       "      <td>H</td>\n",
       "      <td>PIC</td>\n",
       "      <td>151</td>\n",
       "      <td>N</td>\n",
       "      <td>2.564315</td>\n",
       "      <td>143.974821</td>\n",
       "    </tr>\n",
       "    <tr>\n",
       "      <th>10</th>\n",
       "      <td>100012.0</td>\n",
       "      <td>548</td>\n",
       "      <td>1522</td>\n",
       "      <td>GLU</td>\n",
       "      <td>56</td>\n",
       "      <td>H</td>\n",
       "      <td>PIC</td>\n",
       "      <td>151</td>\n",
       "      <td>N</td>\n",
       "      <td>2.419605</td>\n",
       "      <td>148.071948</td>\n",
       "    </tr>\n",
       "    <tr>\n",
       "      <th>11</th>\n",
       "      <td>100013.0</td>\n",
       "      <td>548</td>\n",
       "      <td>1522</td>\n",
       "      <td>GLU</td>\n",
       "      <td>56</td>\n",
       "      <td>H</td>\n",
       "      <td>PIC</td>\n",
       "      <td>151</td>\n",
       "      <td>N</td>\n",
       "      <td>2.660540</td>\n",
       "      <td>154.315247</td>\n",
       "    </tr>\n",
       "    <tr>\n",
       "      <th>12</th>\n",
       "      <td>100014.0</td>\n",
       "      <td>548</td>\n",
       "      <td>1522</td>\n",
       "      <td>GLU</td>\n",
       "      <td>56</td>\n",
       "      <td>H</td>\n",
       "      <td>PIC</td>\n",
       "      <td>151</td>\n",
       "      <td>N</td>\n",
       "      <td>2.358474</td>\n",
       "      <td>155.648264</td>\n",
       "    </tr>\n",
       "    <tr>\n",
       "      <th>13</th>\n",
       "      <td>100015.0</td>\n",
       "      <td>548</td>\n",
       "      <td>1522</td>\n",
       "      <td>GLU</td>\n",
       "      <td>56</td>\n",
       "      <td>H</td>\n",
       "      <td>PIC</td>\n",
       "      <td>151</td>\n",
       "      <td>N</td>\n",
       "      <td>2.638300</td>\n",
       "      <td>155.826790</td>\n",
       "    </tr>\n",
       "    <tr>\n",
       "      <th>14</th>\n",
       "      <td>100016.0</td>\n",
       "      <td>548</td>\n",
       "      <td>1522</td>\n",
       "      <td>GLU</td>\n",
       "      <td>56</td>\n",
       "      <td>H</td>\n",
       "      <td>PIC</td>\n",
       "      <td>151</td>\n",
       "      <td>N</td>\n",
       "      <td>2.776132</td>\n",
       "      <td>166.486894</td>\n",
       "    </tr>\n",
       "    <tr>\n",
       "      <th>15</th>\n",
       "      <td>100018.0</td>\n",
       "      <td>548</td>\n",
       "      <td>1522</td>\n",
       "      <td>GLU</td>\n",
       "      <td>56</td>\n",
       "      <td>H</td>\n",
       "      <td>PIC</td>\n",
       "      <td>151</td>\n",
       "      <td>N</td>\n",
       "      <td>2.549195</td>\n",
       "      <td>169.296842</td>\n",
       "    </tr>\n",
       "    <tr>\n",
       "      <th>16</th>\n",
       "      <td>100019.0</td>\n",
       "      <td>548</td>\n",
       "      <td>1522</td>\n",
       "      <td>GLU</td>\n",
       "      <td>56</td>\n",
       "      <td>H</td>\n",
       "      <td>PIC</td>\n",
       "      <td>151</td>\n",
       "      <td>N</td>\n",
       "      <td>2.820958</td>\n",
       "      <td>143.201501</td>\n",
       "    </tr>\n",
       "    <tr>\n",
       "      <th>17</th>\n",
       "      <td>100020.0</td>\n",
       "      <td>548</td>\n",
       "      <td>1522</td>\n",
       "      <td>GLU</td>\n",
       "      <td>56</td>\n",
       "      <td>H</td>\n",
       "      <td>PIC</td>\n",
       "      <td>151</td>\n",
       "      <td>N</td>\n",
       "      <td>2.921886</td>\n",
       "      <td>159.081775</td>\n",
       "    </tr>\n",
       "    <tr>\n",
       "      <th>18</th>\n",
       "      <td>100021.0</td>\n",
       "      <td>548</td>\n",
       "      <td>1522</td>\n",
       "      <td>GLU</td>\n",
       "      <td>56</td>\n",
       "      <td>H</td>\n",
       "      <td>PIC</td>\n",
       "      <td>151</td>\n",
       "      <td>N</td>\n",
       "      <td>2.600267</td>\n",
       "      <td>176.109603</td>\n",
       "    </tr>\n",
       "    <tr>\n",
       "      <th>19</th>\n",
       "      <td>100022.0</td>\n",
       "      <td>548</td>\n",
       "      <td>1522</td>\n",
       "      <td>GLU</td>\n",
       "      <td>56</td>\n",
       "      <td>H</td>\n",
       "      <td>PIC</td>\n",
       "      <td>151</td>\n",
       "      <td>N</td>\n",
       "      <td>2.314047</td>\n",
       "      <td>170.470518</td>\n",
       "    </tr>\n",
       "    <tr>\n",
       "      <th>20</th>\n",
       "      <td>100023.0</td>\n",
       "      <td>548</td>\n",
       "      <td>1522</td>\n",
       "      <td>GLU</td>\n",
       "      <td>56</td>\n",
       "      <td>H</td>\n",
       "      <td>PIC</td>\n",
       "      <td>151</td>\n",
       "      <td>N</td>\n",
       "      <td>2.456521</td>\n",
       "      <td>171.230218</td>\n",
       "    </tr>\n",
       "    <tr>\n",
       "      <th>21</th>\n",
       "      <td>100024.0</td>\n",
       "      <td>548</td>\n",
       "      <td>1522</td>\n",
       "      <td>GLU</td>\n",
       "      <td>56</td>\n",
       "      <td>H</td>\n",
       "      <td>PIC</td>\n",
       "      <td>151</td>\n",
       "      <td>N</td>\n",
       "      <td>2.342071</td>\n",
       "      <td>169.590626</td>\n",
       "    </tr>\n",
       "    <tr>\n",
       "      <th>22</th>\n",
       "      <td>100025.0</td>\n",
       "      <td>548</td>\n",
       "      <td>1522</td>\n",
       "      <td>GLU</td>\n",
       "      <td>56</td>\n",
       "      <td>H</td>\n",
       "      <td>PIC</td>\n",
       "      <td>151</td>\n",
       "      <td>N</td>\n",
       "      <td>2.624460</td>\n",
       "      <td>178.070563</td>\n",
       "    </tr>\n",
       "    <tr>\n",
       "      <th>23</th>\n",
       "      <td>100026.0</td>\n",
       "      <td>548</td>\n",
       "      <td>1522</td>\n",
       "      <td>GLU</td>\n",
       "      <td>56</td>\n",
       "      <td>H</td>\n",
       "      <td>PIC</td>\n",
       "      <td>151</td>\n",
       "      <td>N</td>\n",
       "      <td>2.845715</td>\n",
       "      <td>165.659239</td>\n",
       "    </tr>\n",
       "    <tr>\n",
       "      <th>24</th>\n",
       "      <td>100027.0</td>\n",
       "      <td>548</td>\n",
       "      <td>1522</td>\n",
       "      <td>GLU</td>\n",
       "      <td>56</td>\n",
       "      <td>H</td>\n",
       "      <td>PIC</td>\n",
       "      <td>151</td>\n",
       "      <td>N</td>\n",
       "      <td>2.782620</td>\n",
       "      <td>145.316947</td>\n",
       "    </tr>\n",
       "    <tr>\n",
       "      <th>25</th>\n",
       "      <td>100028.0</td>\n",
       "      <td>548</td>\n",
       "      <td>1522</td>\n",
       "      <td>GLU</td>\n",
       "      <td>56</td>\n",
       "      <td>H</td>\n",
       "      <td>PIC</td>\n",
       "      <td>151</td>\n",
       "      <td>N</td>\n",
       "      <td>2.346146</td>\n",
       "      <td>169.288480</td>\n",
       "    </tr>\n",
       "    <tr>\n",
       "      <th>26</th>\n",
       "      <td>100030.0</td>\n",
       "      <td>548</td>\n",
       "      <td>1522</td>\n",
       "      <td>GLU</td>\n",
       "      <td>56</td>\n",
       "      <td>H</td>\n",
       "      <td>PIC</td>\n",
       "      <td>151</td>\n",
       "      <td>N</td>\n",
       "      <td>2.219507</td>\n",
       "      <td>158.796794</td>\n",
       "    </tr>\n",
       "    <tr>\n",
       "      <th>27</th>\n",
       "      <td>100031.0</td>\n",
       "      <td>548</td>\n",
       "      <td>1522</td>\n",
       "      <td>GLU</td>\n",
       "      <td>56</td>\n",
       "      <td>H</td>\n",
       "      <td>PIC</td>\n",
       "      <td>151</td>\n",
       "      <td>N</td>\n",
       "      <td>2.140516</td>\n",
       "      <td>153.285401</td>\n",
       "    </tr>\n",
       "    <tr>\n",
       "      <th>28</th>\n",
       "      <td>100032.0</td>\n",
       "      <td>548</td>\n",
       "      <td>1522</td>\n",
       "      <td>GLU</td>\n",
       "      <td>56</td>\n",
       "      <td>H</td>\n",
       "      <td>PIC</td>\n",
       "      <td>151</td>\n",
       "      <td>N</td>\n",
       "      <td>2.673968</td>\n",
       "      <td>156.029875</td>\n",
       "    </tr>\n",
       "    <tr>\n",
       "      <th>29</th>\n",
       "      <td>100033.0</td>\n",
       "      <td>548</td>\n",
       "      <td>1522</td>\n",
       "      <td>GLU</td>\n",
       "      <td>56</td>\n",
       "      <td>H</td>\n",
       "      <td>PIC</td>\n",
       "      <td>151</td>\n",
       "      <td>N</td>\n",
       "      <td>2.225442</td>\n",
       "      <td>171.768826</td>\n",
       "    </tr>\n",
       "    <tr>\n",
       "      <th>...</th>\n",
       "      <td>...</td>\n",
       "      <td>...</td>\n",
       "      <td>...</td>\n",
       "      <td>...</td>\n",
       "      <td>...</td>\n",
       "      <td>...</td>\n",
       "      <td>...</td>\n",
       "      <td>...</td>\n",
       "      <td>...</td>\n",
       "      <td>...</td>\n",
       "      <td>...</td>\n",
       "    </tr>\n",
       "    <tr>\n",
       "      <th>108109</th>\n",
       "      <td>218407.0</td>\n",
       "      <td>548</td>\n",
       "      <td>1522</td>\n",
       "      <td>GLU</td>\n",
       "      <td>56</td>\n",
       "      <td>H</td>\n",
       "      <td>PIC</td>\n",
       "      <td>151</td>\n",
       "      <td>N</td>\n",
       "      <td>2.552918</td>\n",
       "      <td>161.174187</td>\n",
       "    </tr>\n",
       "    <tr>\n",
       "      <th>108110</th>\n",
       "      <td>218408.0</td>\n",
       "      <td>548</td>\n",
       "      <td>1522</td>\n",
       "      <td>GLU</td>\n",
       "      <td>56</td>\n",
       "      <td>H</td>\n",
       "      <td>PIC</td>\n",
       "      <td>151</td>\n",
       "      <td>N</td>\n",
       "      <td>2.696402</td>\n",
       "      <td>150.087356</td>\n",
       "    </tr>\n",
       "    <tr>\n",
       "      <th>108111</th>\n",
       "      <td>218409.0</td>\n",
       "      <td>1509</td>\n",
       "      <td>529</td>\n",
       "      <td>PIC</td>\n",
       "      <td>151</td>\n",
       "      <td>H24</td>\n",
       "      <td>GLY</td>\n",
       "      <td>54</td>\n",
       "      <td>O</td>\n",
       "      <td>2.423653</td>\n",
       "      <td>140.831450</td>\n",
       "    </tr>\n",
       "    <tr>\n",
       "      <th>108112</th>\n",
       "      <td>218410.0</td>\n",
       "      <td>548</td>\n",
       "      <td>1522</td>\n",
       "      <td>GLU</td>\n",
       "      <td>56</td>\n",
       "      <td>H</td>\n",
       "      <td>PIC</td>\n",
       "      <td>151</td>\n",
       "      <td>N</td>\n",
       "      <td>2.215086</td>\n",
       "      <td>168.446065</td>\n",
       "    </tr>\n",
       "    <tr>\n",
       "      <th>108113</th>\n",
       "      <td>218411.0</td>\n",
       "      <td>548</td>\n",
       "      <td>1522</td>\n",
       "      <td>GLU</td>\n",
       "      <td>56</td>\n",
       "      <td>H</td>\n",
       "      <td>PIC</td>\n",
       "      <td>151</td>\n",
       "      <td>N</td>\n",
       "      <td>2.540434</td>\n",
       "      <td>130.281693</td>\n",
       "    </tr>\n",
       "    <tr>\n",
       "      <th>108114</th>\n",
       "      <td>218412.0</td>\n",
       "      <td>1509</td>\n",
       "      <td>529</td>\n",
       "      <td>PIC</td>\n",
       "      <td>151</td>\n",
       "      <td>H24</td>\n",
       "      <td>GLY</td>\n",
       "      <td>54</td>\n",
       "      <td>O</td>\n",
       "      <td>2.599039</td>\n",
       "      <td>120.816528</td>\n",
       "    </tr>\n",
       "    <tr>\n",
       "      <th>108115</th>\n",
       "      <td>218413.0</td>\n",
       "      <td>548</td>\n",
       "      <td>1503</td>\n",
       "      <td>GLU</td>\n",
       "      <td>56</td>\n",
       "      <td>H</td>\n",
       "      <td>PIC</td>\n",
       "      <td>151</td>\n",
       "      <td>N</td>\n",
       "      <td>2.992220</td>\n",
       "      <td>150.585415</td>\n",
       "    </tr>\n",
       "    <tr>\n",
       "      <th>108116</th>\n",
       "      <td>218413.0</td>\n",
       "      <td>548</td>\n",
       "      <td>1522</td>\n",
       "      <td>GLU</td>\n",
       "      <td>56</td>\n",
       "      <td>H</td>\n",
       "      <td>PIC</td>\n",
       "      <td>151</td>\n",
       "      <td>N</td>\n",
       "      <td>2.266515</td>\n",
       "      <td>157.314515</td>\n",
       "    </tr>\n",
       "    <tr>\n",
       "      <th>108117</th>\n",
       "      <td>218413.0</td>\n",
       "      <td>1051</td>\n",
       "      <td>1498</td>\n",
       "      <td>GLU</td>\n",
       "      <td>107</td>\n",
       "      <td>H</td>\n",
       "      <td>PIC</td>\n",
       "      <td>151</td>\n",
       "      <td>O</td>\n",
       "      <td>2.039733</td>\n",
       "      <td>148.455117</td>\n",
       "    </tr>\n",
       "    <tr>\n",
       "      <th>108118</th>\n",
       "      <td>218414.0</td>\n",
       "      <td>548</td>\n",
       "      <td>1522</td>\n",
       "      <td>GLU</td>\n",
       "      <td>56</td>\n",
       "      <td>H</td>\n",
       "      <td>PIC</td>\n",
       "      <td>151</td>\n",
       "      <td>N</td>\n",
       "      <td>2.526063</td>\n",
       "      <td>152.713234</td>\n",
       "    </tr>\n",
       "    <tr>\n",
       "      <th>108119</th>\n",
       "      <td>218415.0</td>\n",
       "      <td>548</td>\n",
       "      <td>1522</td>\n",
       "      <td>GLU</td>\n",
       "      <td>56</td>\n",
       "      <td>H</td>\n",
       "      <td>PIC</td>\n",
       "      <td>151</td>\n",
       "      <td>N</td>\n",
       "      <td>2.711182</td>\n",
       "      <td>121.212661</td>\n",
       "    </tr>\n",
       "    <tr>\n",
       "      <th>108120</th>\n",
       "      <td>218416.0</td>\n",
       "      <td>548</td>\n",
       "      <td>1522</td>\n",
       "      <td>GLU</td>\n",
       "      <td>56</td>\n",
       "      <td>H</td>\n",
       "      <td>PIC</td>\n",
       "      <td>151</td>\n",
       "      <td>N</td>\n",
       "      <td>2.419526</td>\n",
       "      <td>172.902734</td>\n",
       "    </tr>\n",
       "    <tr>\n",
       "      <th>108121</th>\n",
       "      <td>218417.0</td>\n",
       "      <td>548</td>\n",
       "      <td>1522</td>\n",
       "      <td>GLU</td>\n",
       "      <td>56</td>\n",
       "      <td>H</td>\n",
       "      <td>PIC</td>\n",
       "      <td>151</td>\n",
       "      <td>N</td>\n",
       "      <td>2.591316</td>\n",
       "      <td>153.123389</td>\n",
       "    </tr>\n",
       "    <tr>\n",
       "      <th>108122</th>\n",
       "      <td>218418.0</td>\n",
       "      <td>548</td>\n",
       "      <td>1522</td>\n",
       "      <td>GLU</td>\n",
       "      <td>56</td>\n",
       "      <td>H</td>\n",
       "      <td>PIC</td>\n",
       "      <td>151</td>\n",
       "      <td>N</td>\n",
       "      <td>2.683449</td>\n",
       "      <td>148.885324</td>\n",
       "    </tr>\n",
       "    <tr>\n",
       "      <th>108123</th>\n",
       "      <td>218421.0</td>\n",
       "      <td>548</td>\n",
       "      <td>1522</td>\n",
       "      <td>GLU</td>\n",
       "      <td>56</td>\n",
       "      <td>H</td>\n",
       "      <td>PIC</td>\n",
       "      <td>151</td>\n",
       "      <td>N</td>\n",
       "      <td>2.279316</td>\n",
       "      <td>167.167184</td>\n",
       "    </tr>\n",
       "    <tr>\n",
       "      <th>108124</th>\n",
       "      <td>218422.0</td>\n",
       "      <td>548</td>\n",
       "      <td>1522</td>\n",
       "      <td>GLU</td>\n",
       "      <td>56</td>\n",
       "      <td>H</td>\n",
       "      <td>PIC</td>\n",
       "      <td>151</td>\n",
       "      <td>N</td>\n",
       "      <td>2.521368</td>\n",
       "      <td>165.198918</td>\n",
       "    </tr>\n",
       "    <tr>\n",
       "      <th>108125</th>\n",
       "      <td>218423.0</td>\n",
       "      <td>548</td>\n",
       "      <td>1522</td>\n",
       "      <td>GLU</td>\n",
       "      <td>56</td>\n",
       "      <td>H</td>\n",
       "      <td>PIC</td>\n",
       "      <td>151</td>\n",
       "      <td>N</td>\n",
       "      <td>2.434130</td>\n",
       "      <td>132.221805</td>\n",
       "    </tr>\n",
       "    <tr>\n",
       "      <th>108126</th>\n",
       "      <td>218424.0</td>\n",
       "      <td>548</td>\n",
       "      <td>1522</td>\n",
       "      <td>GLU</td>\n",
       "      <td>56</td>\n",
       "      <td>H</td>\n",
       "      <td>PIC</td>\n",
       "      <td>151</td>\n",
       "      <td>N</td>\n",
       "      <td>2.513207</td>\n",
       "      <td>122.293189</td>\n",
       "    </tr>\n",
       "    <tr>\n",
       "      <th>108127</th>\n",
       "      <td>218425.0</td>\n",
       "      <td>1509</td>\n",
       "      <td>529</td>\n",
       "      <td>PIC</td>\n",
       "      <td>151</td>\n",
       "      <td>H24</td>\n",
       "      <td>GLY</td>\n",
       "      <td>54</td>\n",
       "      <td>O</td>\n",
       "      <td>2.368567</td>\n",
       "      <td>130.571536</td>\n",
       "    </tr>\n",
       "    <tr>\n",
       "      <th>108128</th>\n",
       "      <td>218427.0</td>\n",
       "      <td>1509</td>\n",
       "      <td>529</td>\n",
       "      <td>PIC</td>\n",
       "      <td>151</td>\n",
       "      <td>H24</td>\n",
       "      <td>GLY</td>\n",
       "      <td>54</td>\n",
       "      <td>O</td>\n",
       "      <td>2.381971</td>\n",
       "      <td>130.429289</td>\n",
       "    </tr>\n",
       "    <tr>\n",
       "      <th>108129</th>\n",
       "      <td>218427.0</td>\n",
       "      <td>548</td>\n",
       "      <td>1522</td>\n",
       "      <td>GLU</td>\n",
       "      <td>56</td>\n",
       "      <td>H</td>\n",
       "      <td>PIC</td>\n",
       "      <td>151</td>\n",
       "      <td>N</td>\n",
       "      <td>2.544582</td>\n",
       "      <td>120.498924</td>\n",
       "    </tr>\n",
       "    <tr>\n",
       "      <th>108130</th>\n",
       "      <td>218428.0</td>\n",
       "      <td>548</td>\n",
       "      <td>1522</td>\n",
       "      <td>GLU</td>\n",
       "      <td>56</td>\n",
       "      <td>H</td>\n",
       "      <td>PIC</td>\n",
       "      <td>151</td>\n",
       "      <td>N</td>\n",
       "      <td>2.777047</td>\n",
       "      <td>154.311505</td>\n",
       "    </tr>\n",
       "    <tr>\n",
       "      <th>108131</th>\n",
       "      <td>218430.0</td>\n",
       "      <td>1509</td>\n",
       "      <td>529</td>\n",
       "      <td>PIC</td>\n",
       "      <td>151</td>\n",
       "      <td>H24</td>\n",
       "      <td>GLY</td>\n",
       "      <td>54</td>\n",
       "      <td>O</td>\n",
       "      <td>2.272748</td>\n",
       "      <td>131.314563</td>\n",
       "    </tr>\n",
       "    <tr>\n",
       "      <th>108132</th>\n",
       "      <td>218430.0</td>\n",
       "      <td>548</td>\n",
       "      <td>1522</td>\n",
       "      <td>GLU</td>\n",
       "      <td>56</td>\n",
       "      <td>H</td>\n",
       "      <td>PIC</td>\n",
       "      <td>151</td>\n",
       "      <td>N</td>\n",
       "      <td>2.953671</td>\n",
       "      <td>137.680253</td>\n",
       "    </tr>\n",
       "    <tr>\n",
       "      <th>108133</th>\n",
       "      <td>218432.0</td>\n",
       "      <td>548</td>\n",
       "      <td>1522</td>\n",
       "      <td>GLU</td>\n",
       "      <td>56</td>\n",
       "      <td>H</td>\n",
       "      <td>PIC</td>\n",
       "      <td>151</td>\n",
       "      <td>N</td>\n",
       "      <td>2.698628</td>\n",
       "      <td>141.819545</td>\n",
       "    </tr>\n",
       "    <tr>\n",
       "      <th>108134</th>\n",
       "      <td>218433.0</td>\n",
       "      <td>548</td>\n",
       "      <td>1522</td>\n",
       "      <td>GLU</td>\n",
       "      <td>56</td>\n",
       "      <td>H</td>\n",
       "      <td>PIC</td>\n",
       "      <td>151</td>\n",
       "      <td>N</td>\n",
       "      <td>2.732327</td>\n",
       "      <td>161.067829</td>\n",
       "    </tr>\n",
       "    <tr>\n",
       "      <th>108135</th>\n",
       "      <td>218434.0</td>\n",
       "      <td>548</td>\n",
       "      <td>1522</td>\n",
       "      <td>GLU</td>\n",
       "      <td>56</td>\n",
       "      <td>H</td>\n",
       "      <td>PIC</td>\n",
       "      <td>151</td>\n",
       "      <td>N</td>\n",
       "      <td>2.282143</td>\n",
       "      <td>148.770258</td>\n",
       "    </tr>\n",
       "    <tr>\n",
       "      <th>108136</th>\n",
       "      <td>218436.0</td>\n",
       "      <td>548</td>\n",
       "      <td>1522</td>\n",
       "      <td>GLU</td>\n",
       "      <td>56</td>\n",
       "      <td>H</td>\n",
       "      <td>PIC</td>\n",
       "      <td>151</td>\n",
       "      <td>N</td>\n",
       "      <td>2.466939</td>\n",
       "      <td>165.373999</td>\n",
       "    </tr>\n",
       "    <tr>\n",
       "      <th>108137</th>\n",
       "      <td>218436.0</td>\n",
       "      <td>1061</td>\n",
       "      <td>1498</td>\n",
       "      <td>GLU</td>\n",
       "      <td>108</td>\n",
       "      <td>H</td>\n",
       "      <td>PIC</td>\n",
       "      <td>151</td>\n",
       "      <td>O</td>\n",
       "      <td>2.956532</td>\n",
       "      <td>124.332749</td>\n",
       "    </tr>\n",
       "    <tr>\n",
       "      <th>108138</th>\n",
       "      <td>218437.0</td>\n",
       "      <td>548</td>\n",
       "      <td>1522</td>\n",
       "      <td>GLU</td>\n",
       "      <td>56</td>\n",
       "      <td>H</td>\n",
       "      <td>PIC</td>\n",
       "      <td>151</td>\n",
       "      <td>N</td>\n",
       "      <td>2.360214</td>\n",
       "      <td>151.842156</td>\n",
       "    </tr>\n",
       "  </tbody>\n",
       "</table>\n",
       "<p>108139 rows × 11 columns</p>\n",
       "</div>"
      ],
      "text/plain": [
       "            time  donor_index  acceptor_index donor_resnm  donor_resid  \\\n",
       "0       100001.0          548            1522         GLU           56   \n",
       "1       100002.0          548            1522         GLU           56   \n",
       "2       100003.0          548            1522         GLU           56   \n",
       "3       100004.0          548            1522         GLU           56   \n",
       "4       100005.0          548            1522         GLU           56   \n",
       "5       100006.0          548            1522         GLU           56   \n",
       "6       100007.0          548            1522         GLU           56   \n",
       "7       100008.0          548            1522         GLU           56   \n",
       "8       100010.0          548            1522         GLU           56   \n",
       "9       100011.0          548            1522         GLU           56   \n",
       "10      100012.0          548            1522         GLU           56   \n",
       "11      100013.0          548            1522         GLU           56   \n",
       "12      100014.0          548            1522         GLU           56   \n",
       "13      100015.0          548            1522         GLU           56   \n",
       "14      100016.0          548            1522         GLU           56   \n",
       "15      100018.0          548            1522         GLU           56   \n",
       "16      100019.0          548            1522         GLU           56   \n",
       "17      100020.0          548            1522         GLU           56   \n",
       "18      100021.0          548            1522         GLU           56   \n",
       "19      100022.0          548            1522         GLU           56   \n",
       "20      100023.0          548            1522         GLU           56   \n",
       "21      100024.0          548            1522         GLU           56   \n",
       "22      100025.0          548            1522         GLU           56   \n",
       "23      100026.0          548            1522         GLU           56   \n",
       "24      100027.0          548            1522         GLU           56   \n",
       "25      100028.0          548            1522         GLU           56   \n",
       "26      100030.0          548            1522         GLU           56   \n",
       "27      100031.0          548            1522         GLU           56   \n",
       "28      100032.0          548            1522         GLU           56   \n",
       "29      100033.0          548            1522         GLU           56   \n",
       "...          ...          ...             ...         ...          ...   \n",
       "108109  218407.0          548            1522         GLU           56   \n",
       "108110  218408.0          548            1522         GLU           56   \n",
       "108111  218409.0         1509             529         PIC          151   \n",
       "108112  218410.0          548            1522         GLU           56   \n",
       "108113  218411.0          548            1522         GLU           56   \n",
       "108114  218412.0         1509             529         PIC          151   \n",
       "108115  218413.0          548            1503         GLU           56   \n",
       "108116  218413.0          548            1522         GLU           56   \n",
       "108117  218413.0         1051            1498         GLU          107   \n",
       "108118  218414.0          548            1522         GLU           56   \n",
       "108119  218415.0          548            1522         GLU           56   \n",
       "108120  218416.0          548            1522         GLU           56   \n",
       "108121  218417.0          548            1522         GLU           56   \n",
       "108122  218418.0          548            1522         GLU           56   \n",
       "108123  218421.0          548            1522         GLU           56   \n",
       "108124  218422.0          548            1522         GLU           56   \n",
       "108125  218423.0          548            1522         GLU           56   \n",
       "108126  218424.0          548            1522         GLU           56   \n",
       "108127  218425.0         1509             529         PIC          151   \n",
       "108128  218427.0         1509             529         PIC          151   \n",
       "108129  218427.0          548            1522         GLU           56   \n",
       "108130  218428.0          548            1522         GLU           56   \n",
       "108131  218430.0         1509             529         PIC          151   \n",
       "108132  218430.0          548            1522         GLU           56   \n",
       "108133  218432.0          548            1522         GLU           56   \n",
       "108134  218433.0          548            1522         GLU           56   \n",
       "108135  218434.0          548            1522         GLU           56   \n",
       "108136  218436.0          548            1522         GLU           56   \n",
       "108137  218436.0         1061            1498         GLU          108   \n",
       "108138  218437.0          548            1522         GLU           56   \n",
       "\n",
       "       donor_atom acceptor_resnm  acceptor_resid acceptor_atom  distance  \\\n",
       "0               H            PIC             151             N  2.430496   \n",
       "1               H            PIC             151             N  2.348061   \n",
       "2               H            PIC             151             N  2.931657   \n",
       "3               H            PIC             151             N  2.766770   \n",
       "4               H            PIC             151             N  2.780453   \n",
       "5               H            PIC             151             N  2.809273   \n",
       "6               H            PIC             151             N  2.339527   \n",
       "7               H            PIC             151             N  2.699278   \n",
       "8               H            PIC             151             N  2.481610   \n",
       "9               H            PIC             151             N  2.564315   \n",
       "10              H            PIC             151             N  2.419605   \n",
       "11              H            PIC             151             N  2.660540   \n",
       "12              H            PIC             151             N  2.358474   \n",
       "13              H            PIC             151             N  2.638300   \n",
       "14              H            PIC             151             N  2.776132   \n",
       "15              H            PIC             151             N  2.549195   \n",
       "16              H            PIC             151             N  2.820958   \n",
       "17              H            PIC             151             N  2.921886   \n",
       "18              H            PIC             151             N  2.600267   \n",
       "19              H            PIC             151             N  2.314047   \n",
       "20              H            PIC             151             N  2.456521   \n",
       "21              H            PIC             151             N  2.342071   \n",
       "22              H            PIC             151             N  2.624460   \n",
       "23              H            PIC             151             N  2.845715   \n",
       "24              H            PIC             151             N  2.782620   \n",
       "25              H            PIC             151             N  2.346146   \n",
       "26              H            PIC             151             N  2.219507   \n",
       "27              H            PIC             151             N  2.140516   \n",
       "28              H            PIC             151             N  2.673968   \n",
       "29              H            PIC             151             N  2.225442   \n",
       "...           ...            ...             ...           ...       ...   \n",
       "108109          H            PIC             151             N  2.552918   \n",
       "108110          H            PIC             151             N  2.696402   \n",
       "108111        H24            GLY              54             O  2.423653   \n",
       "108112          H            PIC             151             N  2.215086   \n",
       "108113          H            PIC             151             N  2.540434   \n",
       "108114        H24            GLY              54             O  2.599039   \n",
       "108115          H            PIC             151             N  2.992220   \n",
       "108116          H            PIC             151             N  2.266515   \n",
       "108117          H            PIC             151             O  2.039733   \n",
       "108118          H            PIC             151             N  2.526063   \n",
       "108119          H            PIC             151             N  2.711182   \n",
       "108120          H            PIC             151             N  2.419526   \n",
       "108121          H            PIC             151             N  2.591316   \n",
       "108122          H            PIC             151             N  2.683449   \n",
       "108123          H            PIC             151             N  2.279316   \n",
       "108124          H            PIC             151             N  2.521368   \n",
       "108125          H            PIC             151             N  2.434130   \n",
       "108126          H            PIC             151             N  2.513207   \n",
       "108127        H24            GLY              54             O  2.368567   \n",
       "108128        H24            GLY              54             O  2.381971   \n",
       "108129          H            PIC             151             N  2.544582   \n",
       "108130          H            PIC             151             N  2.777047   \n",
       "108131        H24            GLY              54             O  2.272748   \n",
       "108132          H            PIC             151             N  2.953671   \n",
       "108133          H            PIC             151             N  2.698628   \n",
       "108134          H            PIC             151             N  2.732327   \n",
       "108135          H            PIC             151             N  2.282143   \n",
       "108136          H            PIC             151             N  2.466939   \n",
       "108137          H            PIC             151             O  2.956532   \n",
       "108138          H            PIC             151             N  2.360214   \n",
       "\n",
       "             angle  \n",
       "0       152.455264  \n",
       "1       165.110111  \n",
       "2       136.353446  \n",
       "3       163.880662  \n",
       "4       159.426142  \n",
       "5       132.464225  \n",
       "6       144.392624  \n",
       "7       163.545511  \n",
       "8       149.728585  \n",
       "9       143.974821  \n",
       "10      148.071948  \n",
       "11      154.315247  \n",
       "12      155.648264  \n",
       "13      155.826790  \n",
       "14      166.486894  \n",
       "15      169.296842  \n",
       "16      143.201501  \n",
       "17      159.081775  \n",
       "18      176.109603  \n",
       "19      170.470518  \n",
       "20      171.230218  \n",
       "21      169.590626  \n",
       "22      178.070563  \n",
       "23      165.659239  \n",
       "24      145.316947  \n",
       "25      169.288480  \n",
       "26      158.796794  \n",
       "27      153.285401  \n",
       "28      156.029875  \n",
       "29      171.768826  \n",
       "...            ...  \n",
       "108109  161.174187  \n",
       "108110  150.087356  \n",
       "108111  140.831450  \n",
       "108112  168.446065  \n",
       "108113  130.281693  \n",
       "108114  120.816528  \n",
       "108115  150.585415  \n",
       "108116  157.314515  \n",
       "108117  148.455117  \n",
       "108118  152.713234  \n",
       "108119  121.212661  \n",
       "108120  172.902734  \n",
       "108121  153.123389  \n",
       "108122  148.885324  \n",
       "108123  167.167184  \n",
       "108124  165.198918  \n",
       "108125  132.221805  \n",
       "108126  122.293189  \n",
       "108127  130.571536  \n",
       "108128  130.429289  \n",
       "108129  120.498924  \n",
       "108130  154.311505  \n",
       "108131  131.314563  \n",
       "108132  137.680253  \n",
       "108133  141.819545  \n",
       "108134  161.067829  \n",
       "108135  148.770258  \n",
       "108136  165.373999  \n",
       "108137  124.332749  \n",
       "108138  151.842156  \n",
       "\n",
       "[108139 rows x 11 columns]"
      ]
     },
     "execution_count": 33,
     "metadata": {},
     "output_type": "execute_result"
    }
   ],
   "source": [
    "df = pd.DataFrame.from_records(h_bonds.table)\n",
    "df"
   ]
  },
  {
   "cell_type": "code",
   "execution_count": 34,
   "metadata": {},
   "outputs": [],
   "source": [
    "df.to_csv ('../analysis/hbond_table_PIC_protein.csv')"
   ]
  },
  {
   "cell_type": "code",
   "execution_count": 35,
   "metadata": {},
   "outputs": [
    {
     "data": {
      "text/plain": [
       "array([[<matplotlib.axes._subplots.AxesSubplot object at 0x7f9427c8a9e8>,\n",
       "        <matplotlib.axes._subplots.AxesSubplot object at 0x7f9427c2fe48>]], dtype=object)"
      ]
     },
     "execution_count": 35,
     "metadata": {},
     "output_type": "execute_result"
    },
    {
     "data": {
      "image/png": "[encoded data removed]",
      "text/plain": [
       "<Figure size 864x576 with 2 Axes>"
      ]
     },
     "metadata": {},
     "output_type": "display_data"
    }
   ],
   "source": [
    "df.hist(column=['distance','angle'])"
   ]
  }
 ],
 "metadata": {
  "kernelspec": {
   "display_name": "Python 3",
   "language": "python",
   "name": "python3"
  },
  "language_info": {
   "codemirror_mode": {
    "name": "ipython",
    "version": 3
   },
   "file_extension": ".py",
   "mimetype": "text/x-python",
   "name": "python",
   "nbconvert_exporter": "python",
   "pygments_lexer": "ipython3",
   "version": "3.6.8"
  }
 },
 "nbformat": 4,
 "nbformat_minor": 2
}
