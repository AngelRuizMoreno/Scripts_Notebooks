{
 "cells": [
  {
   "cell_type": "code",
   "execution_count": null,
   "metadata": {
    "collapsed": true
   },
   "outputs": [],
   "source": [
    "import os\n",
    "import shutil\n",
    "import tempfile\n",
    "import argparse\n",
    "from concurrent import futures\n",
    "\n",
    "from ccdc.docking import Docker\n",
    "from ccdc.io import MoleculeReader"
   ]
  },
  {
   "cell_type": "code",
   "execution_count": null,
   "metadata": {
    "collapsed": true
   },
   "outputs": [],
   "source": [
    "protein='/media/boltjes/drugdesign3/angel/ZND/Data/5lgd.mol2'\n",
    "ligands_folder='/media/boltjes/drugdesign3/angel/ZND/Ligands/'\n",
    "out_folder='/media/boltjes/drugdesign3/angel/ZND/Dockings/'"
   ]
  },
  {
   "cell_type": "code",
   "execution_count": null,
   "metadata": {},
   "outputs": [],
   "source": [
    "def run_gold (params):\n",
    "    (protein,ligand,out_folder) = params\n",
    "    try:\n",
    "        print ('Processing:',ligand.split('.')[0])\n",
    "        docker = Docker()\n",
    "        settings = docker.settings\n",
    "        settings.add_protein_file (protein)\n",
    "        settings.add_ligand_file (ligands_folder+ligand)\n",
    "        settings.binding_site = settings.BindingSiteFromPoint (protein=protein, origin=(-46.1,-34.37,22), distance=10.0)\n",
    "        settings.fitness_function = 'plp'\n",
    "        settings.rescore_function = 'goldscore'\n",
    "        settings.autoscale = 10.0\n",
    "        settings.early_termination = False\n",
    "        tmp_folder = tempfile.mkdtemp(prefix=ligand.split('.')[0])\n",
    "        settings.output_directory = tmp_folder\n",
    "        settings.output_file = (ligand)\n",
    "        results = docker.dock()\n",
    "        shutil.move (settings.conf_file, out_folder+ligand.split('.')[0] +'.conf')\n",
    "        shutil.move (tmp_folder+'/'+ligand, out_folder)\n",
    "        shutil.rmtree(tmp_folder)\n",
    "    \n",
    "    except Exception:\n",
    "        print (ligand.split('.')[0],'Could not been processed')\n",
    "            \n",
    "            \n",
    "with futures.ProcessPoolExecutor(max_workers=2) as executor:\n",
    "    ligands=[]\n",
    "    docked= []\n",
    "\n",
    "    for out in os.listdir(out_folder):\n",
    "        if '.mol2' in out:\n",
    "            docked.append (out.split('.')[0])\n",
    "\n",
    "    for ligand in sorted (os.listdir (ligands_folder)):\n",
    "        if not (ligand.split('.')[0]) in docked:\n",
    "            if '.mol2' in ligand:\n",
    "                ligands.append (ligand)\n",
    "\n",
    "    for ligand in ligands:\n",
    "        job =executor.submit (run_gold, (protein,ligand,out_folder),)\n",
    "        \n",
    "    print(job.result())"
   ]
  },
  {
   "cell_type": "code",
   "execution_count": null,
   "metadata": {
    "collapsed": true
   },
   "outputs": [],
   "source": []
  }
 ],
 "metadata": {
  "kernelspec": {
   "display_name": "Python 2",
   "language": "python",
   "name": "python2"
  },
  "language_info": {
   "codemirror_mode": {
    "name": "ipython",
    "version": 2
   },
   "file_extension": ".py",
   "mimetype": "text/x-python",
   "name": "python",
   "nbconvert_exporter": "python",
   "pygments_lexer": "ipython2",
   "version": "2.7.15"
  }
 },
 "nbformat": 4,
 "nbformat_minor": 2
}
