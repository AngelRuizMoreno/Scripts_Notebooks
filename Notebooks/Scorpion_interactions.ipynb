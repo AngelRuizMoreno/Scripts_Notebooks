{
 "cells": [
  {
   "cell_type": "code",
   "execution_count": 1,
   "metadata": {},
   "outputs": [],
   "source": [
    "import pandas as pd\n",
    "import os, urllib,re\n",
    "from pymol import cmd,stored\n",
    "from rdkit import Chem\n",
    "import json"
   ]
  },
  {
   "cell_type": "code",
   "execution_count": null,
   "metadata": {},
   "outputs": [],
   "source": [
    "#table=pd.read_excel('Cys_DataBase.xlsx')"
   ]
  },
  {
   "cell_type": "code",
   "execution_count": 2,
   "metadata": {},
   "outputs": [
    {
     "name": "stdout",
     "output_type": "stream",
     "text": [
      " PyMOL not running, entering library mode (experimental)\n"
     ]
    }
   ],
   "source": [
    "for file in os.listdir('DATA/Scorpion/'):\n",
    "    if '.pml' in file:\n",
    "        entry=file.split('.')[0]\n",
    "        with open('DATA/Scorpion/'+file, 'r') as f:\n",
    "            doc=[line for line in f.readlines()]\n",
    "\n",
    "            data={'Residues':{},\n",
    "                  'Interactions': {},\n",
    "                  'Structures': {},\n",
    "                  'Water_ranks':{}}\n",
    "            keys=[]\n",
    "            hbond=[]\n",
    "            hdon_pi=[]\n",
    "            ionic=[]\n",
    "            pi_pi=[]\n",
    "            poor_ang=[]\n",
    "            unclass=[]\n",
    "            unfav=[]\n",
    "            vdW=[]\n",
    "            wat=[]\n",
    "            my_dict = { 'Residues' : [] }\n",
    "\n",
    "            for line in doc:\n",
    "\n",
    "                if \"print 'Scorpion Total:\" in line:\n",
    "                    scorpion_score=float (line.split(':')[-1].replace(\"'\",''))\n",
    "                    data['Scorpion_score']=scorpion_score\n",
    "\n",
    "                if 'bs_protein.pdb' in line:\n",
    "                    urls = re.findall(r'(https?://[^\\s]+)',line)\n",
    "                    url=urls[0].split('\"')[0]\n",
    "\n",
    "                if 'label /water_rank/' in line:\n",
    "                    l=line.replace(\"label /water_rank//\",'').replace(\", '         %4.1f' %\",'').split(' ')\n",
    "                    wat.append((l[0].replace('/','_').replace('`',''),float(l[1])))\n",
    "\n",
    "                line=line.replace('\\n','').split(',')\n",
    "                if len(line) ==3:\n",
    "                    if line[0].split(' ')[1] == 'hbond':\n",
    "                        hbond.append(\"_\".join(line[1].replace('`','').split('/')[3:])+'/'+\"_\".join(line[2].replace('`','').split('/')[3:]))\n",
    "                    if line[0].split(' ')[1] == 'hdon_pi':\n",
    "                        hdon_pi.append(\"_\".join(line[1].replace('`','').split('/')[3:])+'/'+\"_\".join(line[2].replace('`','').split('/')[3:]))\n",
    "                    if line[0].split(' ')[1] == 'ionic':\n",
    "                        ionic.append(\"_\".join(line[1].replace('`','').split('/')[3:])+'/'+\"_\".join(line[2].replace('`','').split('/')[3:]))\n",
    "                    if line[0].split(' ')[1] == 'pi_pi':\n",
    "                        pi_pi.append(\"_\".join(line[1].replace('`','').split('/')[3:])+'/'+\"_\".join(line[2].replace('`','').split('/')[3:]))\n",
    "                    if line[0].split(' ')[1] == 'poor_ang':\n",
    "                        poor_ang.append(\"_\".join(line[1].replace('`','').split('/')[3:])+'/'+\"_\".join(line[2].replace('`','').split('/')[3:]))\n",
    "                    if line[0].split(' ')[1] == 'unclass':\n",
    "                        unclass.append(\"_\".join(line[1].replace('`','').split('/')[3:])+'/'+\"_\".join(line[2].replace('`','').split('/')[3:]))\n",
    "                    if line[0].split(' ')[1] == 'unfav':\n",
    "                        unfav.append(\"_\".join(line[1].replace('`','').split('/')[3:])+'/'+\"_\".join(line[2].replace('`','').split('/')[3:]))\n",
    "                    if line[0].split(' ')[1] == 'vdW':\n",
    "                        vdW.append(\"_\".join(line[1].replace('`','').split('/')[3:])+'/'+\"_\".join(line[2].replace('`','').split('/')[3:]))\n",
    "\n",
    "            data['Interactions']['hbond']=hbond\n",
    "            data['Interactions']['hdon_pi']=hdon_pi\n",
    "            data['Interactions']['ionic']=hbond\n",
    "            data['Interactions']['pi_pi']=hbond\n",
    "            data['Interactions']['vdW']=vdW\n",
    "            data['Interactions']['poor_ang']=poor_ang\n",
    "            data['Interactions']['unclass']=unclass\n",
    "            data['Interactions']['unfav']=unfav\n",
    "            data['Water_ranks']=wat\n",
    "            filename = urllib.urlretrieve(url)[0]\n",
    "            cmd.load(filename, \"struct\")\n",
    "            cmd.create ('ref', 'struct')\n",
    "\n",
    "            cmd.iterate(\"backbone\",\"Residues.append((resn,resi))\",space=my_dict)\n",
    "            f=[\", \".join(i).replace(', ','') for i in my_dict['Residues']]\n",
    "            data['Residues']=list(set(f))\n",
    "\n",
    "            cmd.create ('ligand', 'struct and hetatm')\n",
    "            cmd.remove ('struct in ligand')\n",
    "            ligand_name='DATA/Ligands/'+entry.upper()+'.sdf'\n",
    "            cmd.save (ligand_name,'ligand',state=0,format='sdf')\n",
    "            cmd.delete('all')\n",
    "            data['Structures']['sdf']=[line for line in open(ligand_name,'r').readlines()]\n",
    "            data['Structures']['smiles']=Chem.MolToSmiles(Chem.SDMolSupplier(ligand_name,False)[0])\n",
    "        with open('DATA/Interactions/'+entry.upper()+'.json', 'w') as fp:\n",
    "            json.dump(data, fp, sort_keys=True, indent=4)"
   ]
  },
  {
   "cell_type": "code",
   "execution_count": null,
   "metadata": {},
   "outputs": [],
   "source": []
  }
 ],
 "metadata": {
  "kernelspec": {
   "display_name": "Chem_2",
   "language": "python",
   "name": "chem_2"
  },
  "language_info": {
   "codemirror_mode": {
    "name": "ipython",
    "version": 2
   },
   "file_extension": ".py",
   "mimetype": "text/x-python",
   "name": "python",
   "nbconvert_exporter": "python",
   "pygments_lexer": "ipython2",
   "version": "2.7.18"
  }
 },
 "nbformat": 4,
 "nbformat_minor": 4
}
