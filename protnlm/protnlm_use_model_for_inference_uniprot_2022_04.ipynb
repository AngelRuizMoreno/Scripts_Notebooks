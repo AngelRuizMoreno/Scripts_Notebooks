{
  "cells": [
    {
      "cell_type": "markdown",
      "metadata": {
        "id": "view-in-github",
        "colab_type": "text"
      },
      "source": [
        "<a href=\"https://colab.research.google.com/github/AngelRuizMoreno/Scripts_Notebooks/blob/master/protnlm/protnlm_use_model_for_inference_uniprot_2022_04.ipynb\" target=\"_parent\"><img src=\"https://colab.research.google.com/assets/colab-badge.svg\" alt=\"Open In Colab\"/></a>"
      ]
    },
    {
      "cell_type": "markdown",
      "source": [
        "```\n",
        "# Copyright 2022 Google Inc.\n",
        "\n",
        "# Licensed under the Apache License, Version 2.0 (the \"License\");\n",
        "# you may not use this file except in compliance with the License.\n",
        "# You may obtain a copy of the License at\n",
        "\n",
        "#     http://www.apache.org/licenses/LICENSE-2.0\n",
        "\n",
        "# Unless required by applicable law or agreed to in writing, software\n",
        "# distributed under the License is distributed on an \"AS IS\" BASIS,\n",
        "# WITHOUT WARRANTIES OR CONDITIONS OF ANY KIND, either express or implied.\n",
        "# See the License for the specific language governing permissions and\n",
        "# limitations under the License.\n",
        "```"
      ],
      "metadata": {
        "id": "hCuI3G1qcZJ8"
      }
    },
    {
      "cell_type": "markdown",
      "source": [
        "This colab supports the UniProt launch 2022_04, where Google predicted\n",
        "protein names for 88% of all Uncharacterized proteins (over 1 in 5 proteins in UniProt).\n",
        "\n",
        "This colab allows you to run a model that's very similar to the one used in the UniProt release. **Put in the amino acid sequence below**, and press \"Runtime > Run all\" in the _File_ menu above to **get name predictions for your protein**!\n",
        "\n",
        "This colab takes a few minutes to run initially, and then you get protein sequence predictions in a few seconds!"
      ],
      "metadata": {
        "id": "swj2Jhw8cvAR"
      }
    },
    {
      "cell_type": "markdown",
      "source": [
        "# Import code"
      ],
      "metadata": {
        "id": "Q8TtkEsX7Z2q"
      }
    },
    {
      "cell_type": "code",
      "execution_count": 1,
      "metadata": {
        "id": "wSfRFuO5tive",
        "cellView": "form",
        "colab": {
          "base_uri": "https://localhost:8080/"
        },
        "outputId": "5a511eae-6309-4f73-c652-d3d5954734a5"
      },
      "outputs": [
        {
          "output_type": "stream",
          "name": "stdout",
          "text": [
            "\u001b[2K     \u001b[90m━━━━━━━━━━━━━━━━━━━━━━━━━━━━━━━━━━━━━━━━\u001b[0m \u001b[32m5.2/5.2 MB\u001b[0m \u001b[31m14.2 MB/s\u001b[0m eta \u001b[36m0:00:00\u001b[0m\n",
            "\u001b[?25h"
          ]
        }
      ],
      "source": [
        "#@markdown Please execute this cell by pressing the _Play_ button\n",
        "#@markdown on the left to import the dependencies. It can take a few minutes.\n",
        "!python3 -m pip install -q -U tensorflow==2.15\n",
        "!python3 -m pip install -q -U tensorflow-text==2.15\n",
        "import tensorflow as tf\n",
        "import tensorflow_text\n",
        "import numpy as np\n",
        "import re\n",
        "\n",
        "import IPython.display\n",
        "from absl import logging\n",
        "\n",
        "logging.set_verbosity(logging.ERROR)  # Turn down tensorflow warnings\n",
        "\n",
        "def print_markdown(string):\n",
        "  IPython.display.display(IPython.display.Markdown(string))"
      ]
    },
    {
      "cell_type": "markdown",
      "source": [
        "# 2. Load the model"
      ],
      "metadata": {
        "id": "g7Vxy09g6WpD"
      }
    },
    {
      "cell_type": "code",
      "execution_count": 2,
      "metadata": {
        "id": "uIZGEiYMXqUD",
        "cellView": "form"
      },
      "outputs": [],
      "source": [
        "#@markdown Please execute this cell by pressing the _Play_ button.\n",
        "\n",
        "def query(seq):\n",
        "  return f\"[protein_name_in_english] <extra_id_0> [sequence] {seq}\"\n",
        "\n",
        "EC_NUMBER_REGEX = r'(\\d+).([\\d\\-n]+).([\\d\\-n]+).([\\d\\-n]+)'\n",
        "\n",
        "def run_inference(seq):\n",
        "  labeling = infer(tf.constant([query(seq)]))\n",
        "  names = labeling['output_0'][0].numpy().tolist()\n",
        "  scores = labeling['output_1'][0].numpy().tolist()\n",
        "  beam_size = len(names)\n",
        "  names = [names[beam_size-1-i].decode().replace('<extra_id_0> ', '') for i in range(beam_size)]\n",
        "  for i, name in enumerate(names):\n",
        "    if re.match(EC_NUMBER_REGEX, name):\n",
        "      names[i] = 'EC:' + name\n",
        "  scores = [np.exp(scores[beam_size-1-i]) for i in range(beam_size)]\n",
        "  return names, scores"
      ]
    },
    {
      "cell_type": "code",
      "source": [
        "#@markdown Please execute this cell by pressing the _Play_ button\n",
        "#@markdown on the left to load the model. It can take a few minutes.\n",
        "\n",
        "! mkdir -p protnlm\n",
        "\n",
        "! wget -nc https://storage.googleapis.com/brain-genomics-public/research/proteins/protnlm/uniprot_2022_04/savedmodel__20221011__030822_1128_bs1.bm10.eos_cpu/saved_model.pb -P protnlm -q\n",
        "! mkdir -p protnlm/variables\n",
        "! wget -nc https://storage.googleapis.com/brain-genomics-public/research/proteins/protnlm/uniprot_2022_04/savedmodel__20221011__030822_1128_bs1.bm10.eos_cpu/variables/variables.index -P protnlm/variables/ -q\n",
        "! wget -nc https://storage.googleapis.com/brain-genomics-public/research/proteins/protnlm/uniprot_2022_04/savedmodel__20221011__030822_1128_bs1.bm10.eos_cpu/variables/variables.data-00000-of-00001 -P protnlm/variables/ -q\n",
        "\n",
        "imported = tf.saved_model.load(export_dir=\"protnlm\")\n",
        "infer = imported.signatures[\"serving_default\"]"
      ],
      "metadata": {
        "cellView": "form",
        "id": "N9YtieGL6YRk"
      },
      "execution_count": 3,
      "outputs": []
    },
    {
      "cell_type": "code",
      "execution_count": 14,
      "metadata": {
        "id": "QUDDawYq4e3B",
        "cellView": "form",
        "colab": {
          "base_uri": "https://localhost:8080/",
          "height": 257
        },
        "outputId": "bbf0ffac-411a-4f2a-980e-621e912a9c40"
      },
      "outputs": [
        {
          "output_type": "display_data",
          "data": {
            "text/plain": [
              "<IPython.core.display.Markdown object>"
            ],
            "text/markdown": "Prediction number 1: **Translation elongation factor G** with a score of **0.458**"
          },
          "metadata": {}
        },
        {
          "output_type": "display_data",
          "data": {
            "text/plain": [
              "<IPython.core.display.Markdown object>"
            ],
            "text/markdown": "Prediction number 2: **GTP-binding protein** with a score of **0.239**"
          },
          "metadata": {}
        },
        {
          "output_type": "display_data",
          "data": {
            "text/plain": [
              "<IPython.core.display.Markdown object>"
            ],
            "text/markdown": "Prediction number 3: **Elongation factor G** with a score of **0.057**"
          },
          "metadata": {}
        },
        {
          "output_type": "display_data",
          "data": {
            "text/plain": [
              "<IPython.core.display.Markdown object>"
            ],
            "text/markdown": "Prediction number 4: **Small GTP-binding protein domain-containing protein** with a score of **0.042**"
          },
          "metadata": {}
        },
        {
          "output_type": "display_data",
          "data": {
            "text/plain": [
              "<IPython.core.display.Markdown object>"
            ],
            "text/markdown": "Prediction number 5: **Small GTP-binding protein domain protein** with a score of **0.025**"
          },
          "metadata": {}
        },
        {
          "output_type": "display_data",
          "data": {
            "text/plain": [
              "<IPython.core.display.Markdown object>"
            ],
            "text/markdown": "Prediction number 6: **Tr-type G domain-containing protein** with a score of **0.023**"
          },
          "metadata": {}
        },
        {
          "output_type": "display_data",
          "data": {
            "text/plain": [
              "<IPython.core.display.Markdown object>"
            ],
            "text/markdown": "Prediction number 7: **Small GTP-binding protein** with a score of **0.021**"
          },
          "metadata": {}
        },
        {
          "output_type": "display_data",
          "data": {
            "text/plain": [
              "<IPython.core.display.Markdown object>"
            ],
            "text/markdown": "Prediction number 8: **Small GTP-binding protein domain** with a score of **0.020**"
          },
          "metadata": {}
        },
        {
          "output_type": "display_data",
          "data": {
            "text/plain": [
              "<IPython.core.display.Markdown object>"
            ],
            "text/markdown": "Prediction number 9: **Tetracycline resistance protein tetM from transposon Tn916** with a score of **0.011**"
          },
          "metadata": {}
        },
        {
          "output_type": "display_data",
          "data": {
            "text/plain": [
              "<IPython.core.display.Markdown object>"
            ],
            "text/markdown": "Prediction number 10: **TetM/TetW/TetO/TetS family tetracycline resistance ribosomal protection protein** with a score of **0.011**"
          },
          "metadata": {}
        }
      ],
      "source": [
        "#@title 3. Put your prediction here (hemoglobin is pre-loaded)\n",
        "\n",
        "#@markdown Press the _Play_ button to get a prediction.\n",
        "#@markdown The first time can take a few minutes.\n",
        "#@markdown\n",
        "#@markdown Subsequent predictions take a few seconds.\n",
        "sequence = \"MEAEKQRAKQLVVGILAHVDSGKTTLSEAMLYRSGTIRKLGRVDHKDAFLDTDALEKARG ITIFSKQALLTAGETAITLLDTPGHVDFSTETERTLQVLDYAVLVISGTDGVQSHTETLW RLLRRYHIPTFVFINKMDLPGPGKEKLLEQLNHRLGEGFVDFGADEDTRNEALAVCDERL MEAVLERGTLTPEELIPAIARRHVFPCWFGAALKLEGVDALLAGLDTYTRPAPALDAFGA KVFKLSQDEQGTRLTWLRVTGGTLKVKDQLTGESDGGPWAEKANQLRLYSGVKYTLAEEV GPGQVCAVTGLTQAHPGEGLGAERDSDLPVLEPVLSYQVLLPEGADIHAALGKLHRLEEE EPQLHVVWNETLGEIHVQLMGEVQLEVLKSLLAERYGLEVEFGPGGILYKETITEAMEGV GHYEPLRHYAEVHLKLEPLPAGSGMQFAADCREEVLDKNWQRLVMTHLEEKQHLGVLIGA PLTDVKITLIAGRAHLKHTEGGDFRQATYRAVRQGLMMANQIGKTQLLEPWYTFRLEVPA ENLGRAMNDIQRMEGSFDPPETSADGQTATLTGKAPAATMRSYPMEVVSYTRGRGRVSLT LEGYRPCHNAREVIEAVGYEPEHDLDNPADSVFCAHGAGFVVPWEQVRSHMHVDSGWGKS KPAETDAVAASARQAGRQRRAAAYRATLEEDAELLKIFEQTYGPIKRDPLAAFRPVQKKE RPDFAAEQWTLAPEYLLVDGYNIIFAWDELNALSKESLDAARKKLADILCNYQGFKKCVV ILVFDAYRVPGSPGSIEQYHNIHIVYTKEAETADMFIEHVTHEIGKDRRVRVATSDGMEQ IIILGHGALRVSARMFHEEVKEVEKEIKRYLQGEV\" #@param {type:\"string\"}\n",
        "sequence = sequence.replace(\"\\n\",\"\").replace(' ', '')\n",
        "\n",
        "names, scores = run_inference(sequence)\n",
        "\n",
        "for name, score, i in zip(names, scores, range(len(names))):\n",
        "  print_markdown(f\"Prediction number {i+1}: **{name}** with a score of **{score:.03f}**\")"
      ]
    }
  ],
  "metadata": {
    "colab": {
      "provenance": [],
      "include_colab_link": true
    },
    "kernelspec": {
      "display_name": "Python 3",
      "name": "python3"
    },
    "language_info": {
      "name": "python"
    },
    "gpuClass": "standard",
    "accelerator": "GPU"
  },
  "nbformat": 4,
  "nbformat_minor": 0
}